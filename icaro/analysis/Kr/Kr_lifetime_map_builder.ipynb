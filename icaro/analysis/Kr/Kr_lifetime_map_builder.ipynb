{
 "cells": [
  {
   "cell_type": "markdown",
   "metadata": {},
   "source": [
    "# Produce lifetime XY map"
   ]
  },
  {
   "cell_type": "markdown",
   "metadata": {},
   "source": [
    "<i>\n",
    "This notebook takes a clean kDST, measures the lifetime at\n",
    "different points of the XY plane and stores this map in\n",
    "a hdf5 file.\n",
    "</i>"
   ]
  },
  {
   "cell_type": "markdown",
   "metadata": {},
   "source": [
    "### Notebook configuration"
   ]
  },
  {
   "cell_type": "code",
   "execution_count": null,
   "metadata": {},
   "outputs": [],
   "source": [
    "run_number          = XXX_RUN_NUMBER_XXX\n",
    "input_dst_filename  = f\"$IC_DATA/Kr/dst_{run_number}_filtered.root.h5\"\n",
    "correction_filename = f\"$IC_DATA/XYmaps/corrections_run{run_number}.h5\"\n",
    "plots_output_folder = f\"plots/{run_number}/\"\n",
    "\n",
    "Zrange  =   50,  550\n",
    "XYrange = -200,  200\n",
    "Erange  =  6e3, 14e3\n",
    "Qrange  =  200, 1000\n",
    "Znbins  =   10\n",
    "XYnbins =   60\n",
    "Enbins  =  100\n",
    "Qnbins  =  100\n",
    "\n",
    "# Plotting style\n",
    "default_cmap = \"jet\"\n",
    "figure_size  = 16, 12\n",
    "font_size    = 15\n",
    "\n",
    "save_plots   = True\n",
    "with_titles  = False\n",
    "plots_format = \"pdf\""
   ]
  },
  {
   "cell_type": "markdown",
   "metadata": {},
   "source": [
    "### Imports"
   ]
  },
  {
   "cell_type": "code",
   "execution_count": null,
   "metadata": {},
   "outputs": [],
   "source": [
    "import os\n",
    "import time\n",
    "import collections\n",
    "\n",
    "import tables            as tb\n",
    "import numpy             as np\n",
    "import matplotlib.pyplot as plt\n",
    "\n",
    "import invisible_cities.core.fit_functions as fitf\n",
    "import invisible_cities.reco.dst_functions as dstf\n",
    "import invisible_cities.io  .kdst_io       as kdstio\n",
    "\n",
    "from invisible_cities.core .core_functions import in_range\n",
    "from invisible_cities.icaro.hst_functions  import display_matrix\n",
    "from invisible_cities.icaro.hst_functions  import shift_to_bin_centers\n",
    "from invisible_cities.icaro.hst_functions  import measurement_string\n",
    "from invisible_cities.icaro.hst_functions  import plot_writer\n",
    "\n",
    "from icaro.core.fit_functions import quick_gauss_fit\n",
    "from icaro.core.fit_functions import fit_slices_2d_expo\n",
    "from icaro.core.fit_functions import expo_seed\n",
    "from icaro.core.fit_functions import to_relative\n",
    "from icaro.core.fit_functions import conditional_labels\n",
    "\n",
    "labels = conditional_labels(with_titles)\n",
    "\n",
    "%matplotlib inline"
   ]
  },
  {
   "cell_type": "markdown",
   "metadata": {},
   "source": [
    "### Initialization"
   ]
  },
  {
   "cell_type": "code",
   "execution_count": null,
   "metadata": {},
   "outputs": [],
   "source": [
    "Zbins     = np.linspace(* Zrange,  Znbins+1)\n",
    "Ebins     = np.linspace(* Erange,  Enbins+1)\n",
    "Qbins     = np.linspace(* Qrange,  Qnbins+1)\n",
    "XYbins    = np.linspace(*XYrange, XYnbins+1)\n",
    "XYcenters = shift_to_bin_centers(XYbins)\n",
    "XYpitch   = np.diff(XYbins)[0]\n",
    "\n",
    "input_dst_filename  = os.path.expandvars( input_dst_filename)\n",
    "correction_filename = os.path.expandvars(correction_filename)\n",
    "\n",
    "save = plot_writer(plots_output_folder, plots_format) if save_plots else lambda *x: None\n",
    "\n",
    "plt.rcParams[\"figure.figsize\"] = figure_size\n",
    "plt.rcParams[  \"font.size\"   ] =   font_size"
   ]
  },
  {
   "cell_type": "markdown",
   "metadata": {},
   "source": [
    "### Read data"
   ]
  },
  {
   "cell_type": "code",
   "execution_count": null,
   "metadata": {},
   "outputs": [],
   "source": [
    "dst           = dstf.load_dst(input_dst_filename, \"DST\", \"Events\")\n",
    "unique_events = ~dst.event.duplicated()\n",
    "\n",
    "number_of_S2s_full  = np.size         (unique_events)\n",
    "number_of_evts_full = np.count_nonzero(unique_events)\n",
    "\n",
    "print(f\"Total number of S2s   : {number_of_S2s_full} \")\n",
    "print(f\"Total number of events: {number_of_evts_full}\")"
   ]
  },
  {
   "cell_type": "code",
   "execution_count": null,
   "metadata": {},
   "outputs": [],
   "source": [
    "X = dst.X  .values\n",
    "Y = dst.Y  .values\n",
    "Z = dst.Z  .values\n",
    "E = dst.S2e.values\n",
    "Q = dst.S2q.values"
   ]
  },
  {
   "cell_type": "markdown",
   "metadata": {},
   "source": [
    "### Event distribution"
   ]
  },
  {
   "cell_type": "code",
   "execution_count": null,
   "metadata": {},
   "outputs": [],
   "source": [
    "nevt, *_ = plt.hist2d(X, Y, (XYbins, XYbins))\n",
    "plt.colorbar().set_label(\"Number of events\")\n",
    "labels(\"X (mm)\", \"Y (mm)\", f\"Event distribution for {XYpitch:.1f} mm pitch\")\n",
    "save(f\"EventDistribution_{XYpitch:.1f}mm_XY\")"
   ]
  },
  {
   "cell_type": "code",
   "execution_count": null,
   "metadata": {},
   "outputs": [],
   "source": [
    "nevt_max = int(np.max(nevt))\n",
    "plt.hist(nevt.flatten(), np.arange(1, nevt_max+2))\n",
    "labels(\"Number of events per bin\", \"Entries\", \"# events per bin\")\n",
    "save(f\"EventDistribution_{XYpitch:.1f}mm\")"
   ]
  },
  {
   "cell_type": "markdown",
   "metadata": {},
   "source": [
    "### Compute lifetime maps"
   ]
  },
  {
   "cell_type": "code",
   "execution_count": null,
   "metadata": {},
   "outputs": [],
   "source": [
    "Escale_abs, ELT_abs,\\\n",
    "Echi2, Eok = fit_slices_2d_expo(X, Y, Z, E, XYbins, XYbins, Znbins, zrange=Zrange, min_entries=1e2)\n",
    "Eok        = ELT_abs.value < -100\n",
    "Escale     = to_relative(Escale_abs, percentual=True)\n",
    "ELT        = to_relative(   ELT_abs, percentual=True)"
   ]
  },
  {
   "cell_type": "code",
   "execution_count": null,
   "metadata": {},
   "outputs": [],
   "source": [
    "Qscale_abs, QLT_abs,\\\n",
    "Qchi2, Qok = fit_slices_2d_expo(X, Y, Z, Q, XYbins, XYbins, Znbins, zrange=Zrange, min_entries=1e2)\n",
    "Qok        = QLT_abs.value < -100\n",
    "Qscale     = to_relative(Qscale_abs, percentual=True)\n",
    "QLT        = to_relative(   QLT_abs, percentual=True)"
   ]
  },
  {
   "cell_type": "code",
   "execution_count": null,
   "metadata": {},
   "outputs": [],
   "source": [
    "ELT_mean  = np.nanmean(ELT   .value      [Eok])\n",
    "ELT_std   = np.nanstd (ELT   .value      [Eok])\n",
    "ELTu_mean = np.nanmean(ELT   .uncertainty[Eok])\n",
    "ELTu_std  = np.nanstd (ELT   .uncertainty[Eok])\n",
    "\n",
    "E_mean    = np.nanmean(Escale.value      [Eok])\n",
    "E_std     = np.nanstd (Escale.value      [Eok])\n",
    "Eu_mean   = np.nanmean(Escale.uncertainty[Eok])\n",
    "Eu_std    = np.nanstd (Escale.uncertainty[Eok])\n",
    "\n",
    "QLT_mean  = np.nanmean(QLT   .value      [Qok])\n",
    "QLT_std   = np.nanstd (QLT   .value      [Qok])\n",
    "QLTu_mean = np.nanmean(QLT   .uncertainty[Qok])\n",
    "QLTu_std  = np.nanstd (QLT   .uncertainty[Qok])\n",
    "\n",
    "Q_mean    = np.nanmean(Qscale.value      [Qok])\n",
    "Q_std     = np.nanstd (Qscale.value      [Qok])\n",
    "Qu_mean   = np.nanmean(Qscale.uncertainty[Qok])\n",
    "Qu_std    = np.nanstd (Qscale.uncertainty[Qok])"
   ]
  },
  {
   "cell_type": "code",
   "execution_count": null,
   "metadata": {},
   "outputs": [],
   "source": [
    "E_min    =        E_mean - 3.0 *    E_std\n",
    "E_max    =        E_mean + 2.0 *    E_std\n",
    "\n",
    "ELT_min  =     -ELT_mean - 4.0 *  ELT_std\n",
    "ELT_max  =     -ELT_mean + 3.0 *  ELT_std\n",
    "\n",
    "Eu_min   = max(  Eu_mean - 1.5 *   Eu_std, 1e-3)\n",
    "Eu_max   =       Eu_mean + 2.0 *   Eu_std\n",
    "\n",
    "ELTu_min = max(ELTu_mean - 1.5 * ELTu_std, 1e-3)\n",
    "ELTu_max =     ELTu_mean + 2.0 * ELTu_std\n",
    "\n",
    "Q_min    =        Q_mean - 3.0 *    Q_std\n",
    "Q_max    =        Q_mean + 2.0 *    Q_std\n",
    "\n",
    "QLT_min  =     -QLT_mean - 4.0 *  QLT_std\n",
    "QLT_max  =     -QLT_mean + 3.0 *  QLT_std\n",
    "\n",
    "Qu_min   = max(  Qu_mean - 1.5 *   Qu_std, 1e-3)\n",
    "Qu_max   =       Qu_mean + 2.0 *   Qu_std\n",
    "\n",
    "QLTu_min = max(QLTu_mean - 1.5 * QLTu_std, 1e-3)\n",
    "QLTu_max =     QLTu_mean + 2.0 * QLTu_std"
   ]
  },
  {
   "cell_type": "markdown",
   "metadata": {},
   "source": [
    "### Fit examples"
   ]
  },
  {
   "cell_type": "code",
   "execution_count": null,
   "metadata": {},
   "outputs": [],
   "source": [
    "xlim =  15,  25\n",
    "ylim = -25, -15\n",
    "sel  = in_range(X, *xlim) & in_range(Y, *ylim)\n",
    "z, e = Z[sel], E[sel]\n",
    "\n",
    "frame_data = plt.gcf().add_axes((.1, .3,\n",
    "                                 .8, .6))\n",
    "plt.hist2d(z, e, (Zbins, Ebins))\n",
    "\n",
    "x, y, yu = fitf.profileX(z, e, Znbins, Zrange)\n",
    "plt.errorbar(x, y, yu, np.diff(x)[0]/2, fmt=\"kp\", ms=7, lw=3)\n",
    "\n",
    "seed = expo_seed(x, y)\n",
    "f    = fitf.fit(fitf.expo, x, y, seed, sigma=yu)\n",
    "plt.plot(x, f.fn(x), \"r-\", lw=4)\n",
    "\n",
    "frame_data.set_xticklabels([])\n",
    "labels(\"\", \"Energy (pes)\", \"Lifetime fit example\")\n",
    "lims = plt.xlim()\n",
    "\n",
    "frame_res = plt.gcf().add_axes((.1, .1,\n",
    "                                .8, .2))\n",
    "plt.errorbar(x, (f.fn(x) - y) / yu, 1, np.diff(x)[0]/2, fmt=\"p\", c=\"k\")\n",
    "plt.plot(lims, (0, 0), \"g--\")\n",
    "plt.xlim(*lims)\n",
    "plt.ylim(-5,+5)\n",
    "labels(\"Drift time (µs)\", \"Standarized residual\")\n",
    "\n",
    "save(\"Lifetime_fit_example\")"
   ]
  },
  {
   "cell_type": "code",
   "execution_count": null,
   "metadata": {},
   "outputs": [],
   "source": [
    "xlim =  15,  25\n",
    "ylim = -25, -15\n",
    "sel  = in_range(X, *xlim) & in_range(Y, *ylim)\n",
    "z, q = Z[sel], Q[sel]\n",
    "\n",
    "frame_data = plt.gcf().add_axes((.1, .3,\n",
    "                                 .8, .6))\n",
    "plt.hist2d(z, q, (Zbins, Qbins))\n",
    "\n",
    "x, y, yu = fitf.profileX(z, q, Znbins, Zrange)\n",
    "plt.errorbar(x, y, yu, np.diff(x)[0]/2, fmt=\"kp\", ms=7, lw=3)\n",
    "\n",
    "seed = expo_seed(x, y)\n",
    "f    = fitf.fit(fitf.expo, x, y, seed, sigma=yu)\n",
    "plt.plot(x, f.fn(x), \"r-\", lw=4)\n",
    "\n",
    "frame_data.set_xticklabels([])\n",
    "labels(\"\", \"Energy (pes)\", \"Lifetime fit example\")\n",
    "lims = plt.xlim()\n",
    "\n",
    "frame_res = plt.gcf().add_axes((.1, .1,\n",
    "                                .8, .2))\n",
    "plt.errorbar(x, (f.fn(x) - y) / yu, 1, np.diff(x)[0]/2, fmt=\"p\", c=\"k\")\n",
    "plt.plot(lims, (0, 0), \"g--\")\n",
    "plt.xlim(*lims)\n",
    "plt.ylim(-5,+5)\n",
    "labels(\"Drift time (µs)\", \"Standarized residual\")\n",
    "\n",
    "save(\"LifetimeQ_fit_example\")"
   ]
  },
  {
   "cell_type": "markdown",
   "metadata": {},
   "source": [
    "### Map display"
   ]
  },
  {
   "cell_type": "code",
   "execution_count": null,
   "metadata": {},
   "outputs": [],
   "source": [
    "plt.subplot(2, 2, 1)\n",
    "bins    = np.linspace(E_min, E_max, 101)\n",
    "y, x, _ = plt.hist(Escale.value.flatten(), bins)\n",
    "labels(\"Energy at z=0 (pes)\", \"Entries\", \"Energy scale distribution\")\n",
    "\n",
    "plt.subplot(2, 2, 2)\n",
    "bins    = np.linspace(Eu_min, Eu_max, 101)\n",
    "y, x, _ = plt.hist(Escale.uncertainty.flatten(), bins)\n",
    "labels(\"Energy at z=0 uncertainty(%)\", \"Entries\", \"Energy scale uncertainty distribution\")\n",
    "\n",
    "plt.subplot(2, 2, 3)\n",
    "bins    = np.linspace(ELT_min, ELT_max, 101)\n",
    "y, x, _ = plt.hist       (-ELT.value.flatten(), bins)\n",
    "f       = quick_gauss_fit(-ELT.value.flatten(), bins)\n",
    "plt.plot(x, f.fn(x), \"r-\")\n",
    "labels(\"Lifetime (µs)\", \"Entries\", \"Lifetime distribution\")\n",
    "\n",
    "plt.subplot(2, 2, 4)\n",
    "bins    = np.linspace(ELTu_min, ELTu_max, 101)\n",
    "y, x, _ = plt.hist       (ELT.uncertainty.flatten(), bins)\n",
    "fu      = quick_gauss_fit(ELT.uncertainty.flatten(), bins)\n",
    "plt.plot(x, fu.fn(x), \"r-\")\n",
    "labels(\"Lifetime uncertainty (%)\", \"Entries\", \"Lifetime uncertainty distribution\")\n",
    "\n",
    "plt.tight_layout()\n",
    "\n",
    "save(\"Lifetime_and_energy_scale_distributions\")\n",
    "\n",
    "print(\"Average lifetime             (mean +- rms) = ({}) µs\" .format(measurement_string(f .values[1], f .values[2])))\n",
    "print(\"Average lifetime uncertainty (mean +- rms) = ({}) (%)\".format(measurement_string(fu.values[1], fu.values[2])))"
   ]
  },
  {
   "cell_type": "code",
   "execution_count": null,
   "metadata": {},
   "outputs": [],
   "source": [
    "plt.subplot(2, 2, 1)\n",
    "bins    = np.linspace(Q_min, Q_max, 101)\n",
    "y, x, _ = plt.hist(Qscale.value.flatten(), bins)\n",
    "labels(\"Charge at z=0 (pes)\", \"Entries\", \"Charge scale distribution\")\n",
    "\n",
    "plt.subplot(2, 2, 2)\n",
    "bins    = np.linspace(Qu_min, Qu_max, 101)\n",
    "y, x, _ = plt.hist(Qscale.uncertainty.flatten(), bins)\n",
    "labels(\"Charge at z=0 uncertainty(%)\", \"Entries\", \"Charge scale uncertainty distribution\")\n",
    "\n",
    "plt.subplot(2, 2, 3)\n",
    "bins    = np.linspace(QLT_min, QLT_max, 101)\n",
    "y, x, _ = plt.hist       (-QLT.value.flatten(), bins)\n",
    "f       = quick_gauss_fit(-QLT.value.flatten(), bins)\n",
    "plt.plot(x, f.fn(x), \"r-\")\n",
    "labels(\"Charge lifetime (µs)\", \"Entries\", \"Charge lifetime distribution\")\n",
    "\n",
    "plt.subplot(2, 2, 4)\n",
    "bins    = np.linspace(QLTu_min, QLTu_max, 101)\n",
    "y, x, _ = plt.hist       (QLT.uncertainty.flatten(), bins)\n",
    "fu      = quick_gauss_fit(QLT.uncertainty.flatten(), bins)\n",
    "plt.plot(x, fu.fn(x), \"r-\")\n",
    "labels(\"Charge lifetime uncertainty (%)\", \"Entries\", \"Charge lifetime uncertainty distribution\")\n",
    "\n",
    "plt.tight_layout()\n",
    "\n",
    "save(\"Lifetime_and_charge_scale_distributions\")\n",
    "\n",
    "print(\"Average lifetime             (mean +- rms) = ({}) µs\" .format(measurement_string(f .values[1], f .values[2])))\n",
    "print(\"Average lifetime uncertainty (mean +- rms) = ({}) (%)\".format(measurement_string(fu.values[1], fu.values[2])))"
   ]
  },
  {
   "cell_type": "code",
   "execution_count": null,
   "metadata": {},
   "outputs": [],
   "source": [
    "plt.subplot(2, 2, 1)\n",
    "*_, cb = display_matrix(XYcenters, XYcenters, Escale.value,\n",
    "                        vmin = E_min,\n",
    "                        vmax = E_max,\n",
    "                        cmap = default_cmap,\n",
    "                        new_figure = False);\n",
    "cb.set_label(\"Energy scale at z=0 (pes)\")\n",
    "labels(\"X (mm)\", \"Y (mm)\", \"Energy scale\")\n",
    "\n",
    "plt.subplot(2, 2, 2)\n",
    "*_, cb = display_matrix(XYcenters, XYcenters, Escale.uncertainty,\n",
    "                        vmin = Eu_min,\n",
    "                        vmax = Eu_max,\n",
    "                        cmap = default_cmap,\n",
    "                        new_figure = False);\n",
    "cb.set_label(\"Relative energy scale uncertainty (%)\")\n",
    "labels(\"X (mm)\", \"Y (mm)\", \"Relative energy scale uncertainty\")\n",
    "\n",
    "plt.subplot(2, 2, 3)\n",
    "*_, cb = display_matrix(XYcenters, XYcenters, -ELT.value,\n",
    "                        vmin = ELT_min,\n",
    "                        vmax = ELT_max,\n",
    "                        cmap = default_cmap,\n",
    "                        new_figure = False);\n",
    "cb.set_label(\"Lifetime (µs)\")\n",
    "labels(\"X (mm)\", \"Y (mm)\", \"Lifetime\")\n",
    "\n",
    "plt.subplot(2, 2, 4)\n",
    "*_, cb = display_matrix(XYcenters, XYcenters, ELT.uncertainty,\n",
    "                        vmin = ELTu_min,\n",
    "                        vmax = ELTu_max,\n",
    "                        cmap = default_cmap,\n",
    "                        new_figure = False);\n",
    "cb.set_label(\"Relative lifetime uncertainty (%)\")\n",
    "labels(\"X (mm)\", \"Y (mm)\", \"Relative lifetime uncertainty\")\n",
    "\n",
    "plt.tight_layout()\n",
    "save(\"Lifetime_and_energy_scale_maps\")"
   ]
  },
  {
   "cell_type": "code",
   "execution_count": null,
   "metadata": {},
   "outputs": [],
   "source": [
    "plt.subplot(2, 2, 1)\n",
    "*_, cb = display_matrix(XYcenters, XYcenters, Qscale.value,\n",
    "                        vmin = Q_min,\n",
    "                        vmax = Q_max,\n",
    "                        cmap = default_cmap,\n",
    "                        new_figure = False);\n",
    "cb.set_label(\"Charge scale at z=0 (pes)\")\n",
    "labels(\"X (mm)\", \"Y (mm)\", \"Charge scale\")\n",
    "\n",
    "plt.subplot(2, 2, 2)\n",
    "*_, cb = display_matrix(XYcenters, XYcenters, Qscale.uncertainty,\n",
    "                        vmin = Qu_min,\n",
    "                        vmax = Qu_max,\n",
    "                        cmap = default_cmap,\n",
    "                        new_figure = False);\n",
    "cb.set_label(\"Relative charge scale uncertainty (%)\")\n",
    "labels(\"X (mm)\", \"Y (mm)\", \"Relative charge scale uncertainty\")\n",
    "\n",
    "plt.subplot(2, 2, 3)\n",
    "*_, cb = display_matrix(XYcenters, XYcenters, -QLT.value,\n",
    "                        vmin = QLT_min,\n",
    "                        vmax = QLT_max,\n",
    "                        cmap = default_cmap,\n",
    "                        new_figure = False);\n",
    "cb.set_label(\"Lifetime (µs)\")\n",
    "labels(\"X (mm)\", \"Y (mm)\", \"Lifetime\")\n",
    "\n",
    "plt.subplot(2, 2, 4)\n",
    "*_, cb = display_matrix(XYcenters, XYcenters, QLT.uncertainty,\n",
    "                        vmin = QLTu_min,\n",
    "                        vmax = QLTu_max,\n",
    "                        cmap = default_cmap,\n",
    "                        new_figure = False);\n",
    "cb.set_label(\"Relative lifetime uncertainty (%)\")\n",
    "labels(\"X (mm)\", \"Y (mm)\", \"Relative lifetime uncertainty\")\n",
    "\n",
    "plt.tight_layout()\n",
    "save(\"Lifetime_and_charge_scale_maps\")"
   ]
  },
  {
   "cell_type": "code",
   "execution_count": null,
   "metadata": {},
   "outputs": [],
   "source": [
    "plt.hist(Echi2[Echi2 > 0], np.linspace(0, 4, 100))\n",
    "labels(\"$\\chi^2$\", \"Entries\", \"$\\chi^2$ distribution\")\n",
    "\n",
    "*_, cb = display_matrix(XYcenters, XYcenters, Echi2,\n",
    "                        vmin = 0, vmax = 4,\n",
    "                        cmap = default_cmap)\n",
    "cb.set_label(\"$\\chi^2$\")\n",
    "labels(\"X (mm)\", \"Y (mm)\", \"$\\chi^2$ vs XY\")"
   ]
  },
  {
   "cell_type": "code",
   "execution_count": null,
   "metadata": {},
   "outputs": [],
   "source": [
    "plt.hist(Qchi2[Qchi2 > 0], np.linspace(0, 4, 100))\n",
    "labels(\"$\\chi^2$\", \"Entries\", \"$\\chi^2$ distribution\")\n",
    "\n",
    "*_, cb = display_matrix(XYcenters, XYcenters, Qchi2,\n",
    "                        vmin = 0, vmax = 4,\n",
    "                        cmap = default_cmap)\n",
    "cb.set_label(\"$\\chi^2$\")\n",
    "labels(\"X (mm)\", \"Y (mm)\", \"$\\chi^2$ vs XY\")"
   ]
  },
  {
   "cell_type": "markdown",
   "metadata": {},
   "source": [
    "### Produce HDF5 output"
   ]
  },
  {
   "cell_type": "code",
   "execution_count": null,
   "metadata": {},
   "outputs": [],
   "source": [
    "# This is to avoid the effect of low stat bins\n",
    "# to the map. Data points in that bin could be\n",
    "# loss or corrected with an unrealistic lifetime.\n",
    "# Thus, we assign the average value. This works\n",
    "# because correcting with a slightly different\n",
    "# lifetime does not have a big impact on energy\n",
    "# resolution.\n",
    "\n",
    "Escale_safe  = np.where(Eok, Escale_abs.value      ,     E_mean)\n",
    "Escaleu_safe = np.where(Eok, Escale_abs.uncertainty,    Eu_mean *   E_mean / 100)\n",
    "\n",
    "ELT_safe     = np.where(Eok,   -ELT_abs.value      , - ELT_mean)\n",
    "ELTu_safe    = np.where(Eok,    ELT_abs.uncertainty, -ELTu_mean * ELT_mean / 100)\n",
    "\n",
    "Qscale_safe  = np.where(Qok, Qscale_abs.value      ,     Q_mean)\n",
    "Qscaleu_safe = np.where(Qok, Qscale_abs.uncertainty,    Qu_mean *   Q_mean / 100)\n",
    "\n",
    "QLT_safe     = np.where(Qok,   -QLT_abs.value      , - QLT_mean)\n",
    "QLTu_safe    = np.where(Qok,    QLT_abs.uncertainty, -QLTu_mean * QLT_mean / 100)\n",
    "\n",
    "with tb.open_file(correction_filename, \"w\") as correction_file:\n",
    "    write_escale = kdstio.xy_writer(correction_file,\n",
    "                                    group       = \"XYcorrections\",\n",
    "                                    name        = \"Escale\",\n",
    "                                    description = \"XY-dependent energy scale\",\n",
    "                                    compression = \"ZLIB4\")\n",
    "    write_escale(XYcenters, XYcenters, Escale_safe, Escaleu_safe, nevt)\n",
    "    correction_file.root.XYcorrections.Escale.attrs.xy_bins  = XYnbins\n",
    "    correction_file.root.XYcorrections.Escale.attrs.xy_pitch = XYpitch\n",
    "\n",
    "    write_lifetime = kdstio.xy_writer(correction_file,\n",
    "                                      group       = \"XYcorrections\",\n",
    "                                      name        = \"Lifetime\",\n",
    "                                      description = \"XY-dependent lifetime values\",\n",
    "                                      compression = \"ZLIB4\")\n",
    "    write_lifetime(XYcenters, XYcenters, ELT_safe, ELTu_safe, nevt)\n",
    "    correction_file.root.XYcorrections.Lifetime.attrs.xy_bins  = XYnbins\n",
    "    correction_file.root.XYcorrections.Lifetime.attrs.xy_pitch = XYpitch\n",
    "\n",
    "    write_qscale = kdstio.xy_writer(correction_file,\n",
    "                                    group       = \"XYcorrections\",\n",
    "                                    name        = \"Qscale\",\n",
    "                                    description = \"XY-dependent energy scale\",\n",
    "                                    compression = \"ZLIB4\")\n",
    "    write_escale(XYcenters, XYcenters, Qscale_safe, Qscaleu_safe, nevt)\n",
    "    correction_file.root.XYcorrections.Qscale.attrs.xy_bins  = XYnbins\n",
    "    correction_file.root.XYcorrections.Qscale.attrs.xy_pitch = XYpitch\n",
    "\n",
    "    write_lifetime = kdstio.xy_writer(correction_file,\n",
    "                                      group       = \"XYcorrections\",\n",
    "                                      name        = \"QLifetime\",\n",
    "                                      description = \"XY-dependent lifetime values\",\n",
    "                                      compression = \"ZLIB4\")\n",
    "    write_lifetime(XYcenters, XYcenters, QLT_safe, QLTu_safe, nevt)\n",
    "    correction_file.root.XYcorrections.QLifetime.attrs.xy_bins  = XYnbins\n",
    "    correction_file.root.XYcorrections.QLifetime.attrs.xy_pitch = XYpitch"
   ]
  }
 ],
 "metadata": {
  "kernelspec": {
   "display_name": "Python 3",
   "language": "python",
   "name": "python3"
  },
  "language_info": {
   "codemirror_mode": {
    "name": "ipython",
    "version": 3
   },
   "file_extension": ".py",
   "mimetype": "text/x-python",
   "name": "python",
   "nbconvert_exporter": "python",
   "pygments_lexer": "ipython3",
   "version": "3.6.1"
  }
 },
 "nbformat": 4,
 "nbformat_minor": 2
}
