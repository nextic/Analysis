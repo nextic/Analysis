{
 "cells": [
  {
   "cell_type": "markdown",
   "metadata": {},
   "source": [
    "# Produce geometrical XY map"
   ]
  },
  {
   "cell_type": "markdown",
   "metadata": {},
   "source": [
    "<i>\n",
    "This notebook takes a clean kDST and a correction file,\n",
    "performs the lifetime correction and measures the energy\n",
    "at different points of the XY plane. The resulting map\n",
    "is stored in the same correction file.\n",
    "</i>"
   ]
  },
  {
   "cell_type": "markdown",
   "metadata": {},
   "source": [
    "### Notebook configuration"
   ]
  },
  {
   "cell_type": "code",
   "execution_count": null,
   "metadata": {},
   "outputs": [],
   "source": [
    "run_number          = XXX_RUN_NUMBER_XXX\n",
    "input_dst_filename  = f\"$IC_DATA/Kr/dst_{run_number}_filtered.root.h5\"\n",
    "correction_filename = f\"$IC_DATA/XYmaps/corrections_run{run_number}.h5\"\n",
    "plots_output_folder = f\"plots/{run_number}/\"\n",
    "overwrite           = True\n",
    "\n",
    "Zrange  =   50,  550\n",
    "XYrange = -200,  200\n",
    "Znbins  =   10\n",
    "XYnbins = [ 40,  60,  80,\n",
    "           100, 120, 140,\n",
    "           160, 180, 200]\n",
    "nX, nY  =    3,   3\n",
    "\n",
    "# Plotting style\n",
    "default_cmap = \"viridis\"\n",
    "figure_size  = 16, 12\n",
    "font_size    = 15\n",
    "\n",
    "save_plots   = True\n",
    "with_titles  = False\n",
    "plots_format = \"pdf\""
   ]
  },
  {
   "cell_type": "markdown",
   "metadata": {},
   "source": [
    "### Imports"
   ]
  },
  {
   "cell_type": "code",
   "execution_count": null,
   "metadata": {},
   "outputs": [],
   "source": [
    "import os\n",
    "import time\n",
    "import collections\n",
    "import warnings\n",
    "\n",
    "import tables            as tb\n",
    "import numpy             as np\n",
    "import matplotlib.pyplot as plt\n",
    "\n",
    "import invisible_cities.core.fit_functions as fitf\n",
    "import invisible_cities.reco.dst_functions as dstf\n",
    "import invisible_cities.io  .kdst_io       as kdstio\n",
    "\n",
    "from invisible_cities.core .core_functions import in_range\n",
    "from invisible_cities.icaro. hst_functions import hist\n",
    "from invisible_cities.icaro. hst_functions import poisson_sigma\n",
    "from invisible_cities.icaro. hst_functions import display_matrix\n",
    "from invisible_cities.icaro. hst_functions import shift_to_bin_centers\n",
    "from invisible_cities.icaro. hst_functions import plot_writer\n",
    "\n",
    "from icaro.core.fit_functions import gauss_seed\n",
    "from icaro.core.fit_functions import relative_errors\n",
    "from icaro.core.fit_functions import conditional_labels\n",
    "\n",
    "labels = conditional_labels(with_titles)\n",
    "save   = plot_writer(plots_output_folder, plots_format) if save_plots else lambda *x: None\n",
    "\n",
    "%matplotlib inline"
   ]
  },
  {
   "cell_type": "markdown",
   "metadata": {},
   "source": [
    "### Initialization"
   ]
  },
  {
   "cell_type": "code",
   "execution_count": null,
   "metadata": {},
   "outputs": [],
   "source": [
    "Zbins     =     np.linspace(* Zrange,  Znbins+1)\n",
    "XYbins    = {n: np.linspace(*XYrange,   n    +1) for n in XYnbins}\n",
    "XYcenters = {n: shift_to_bin_centers(bins) for n, bins in XYbins.items()}\n",
    "XYpitch   = {n: np.diff(bins)[0]           for n, bins in XYbins.items()}\n",
    "\n",
    "input_dst_filename   = os.path.expandvars( input_dst_filename)\n",
    "correction_filename  = os.path.expandvars(correction_filename)\n",
    "correction_filenames = {n: correction_filename.replace(\".h5\", f\"_GEO{p:.1f}mm.h5\") for n, p in XYpitch.items()}\n",
    "\n",
    "plt.rcParams[\"figure.figsize\"] = figure_size\n",
    "plt.rcParams[  \"font.size\"   ] =   font_size\n",
    "\n",
    "warnings.filterwarnings('ignore', category=tb.NaturalNameWarning)"
   ]
  },
  {
   "cell_type": "markdown",
   "metadata": {},
   "source": [
    "### Read data"
   ]
  },
  {
   "cell_type": "code",
   "execution_count": null,
   "metadata": {},
   "outputs": [],
   "source": [
    "dst           = dstf.load_dst(input_dst_filename, \"DST\", \"Events\")\n",
    "unique_events = ~dst.event.duplicated()\n",
    "\n",
    "number_of_S2s_full  = np.size         (unique_events)\n",
    "number_of_evts_full = np.count_nonzero(unique_events)\n",
    "\n",
    "print(f\"Total number of S2s   : {number_of_S2s_full} \")\n",
    "print(f\"Total number of events: {number_of_evts_full}\")"
   ]
  },
  {
   "cell_type": "code",
   "execution_count": null,
   "metadata": {},
   "outputs": [],
   "source": [
    "ZcorrectionE = dstf.load_lifetime_xy_corrections(correction_filename,\n",
    "                                                 group = \"XYcorrections\",\n",
    "                                                 node  = \"Lifetime\")\n",
    "\n",
    "ZcorrectionQ = dstf.load_lifetime_xy_corrections(correction_filename,\n",
    "                                                 group = \"XYcorrections\",\n",
    "                                                 node  = \"QLifetime\")"
   ]
  },
  {
   "cell_type": "code",
   "execution_count": null,
   "metadata": {},
   "outputs": [],
   "source": [
    "X = dst.X  .values\n",
    "Y = dst.Y  .values\n",
    "Z = dst.Z  .values\n",
    "E = dst.S2e.values * ZcorrectionE(Z, X, Y).value\n",
    "Q = dst.S2q.values * ZcorrectionQ(Z, X, Y).value"
   ]
  },
  {
   "cell_type": "markdown",
   "metadata": {},
   "source": [
    "### Event distribution"
   ]
  },
  {
   "cell_type": "code",
   "execution_count": null,
   "metadata": {},
   "outputs": [],
   "source": [
    "Nevt = {}\n",
    "i    = 1\n",
    "for n in XYnbins:\n",
    "    xybins  = XYbins [n]\n",
    "    xypitch = XYpitch[n]\n",
    "\n",
    "    plt.subplot(nY, nX, i)\n",
    "    nevt, *_ = plt.hist2d(X, Y, (xybins, xybins))\n",
    "    plt.colorbar().set_label(\"Number of events\")\n",
    "    labels(\"X (mm)\", \"Y (mm)\", f\"Event distribution for {xypitch:.1f} mm pitch\")\n",
    "\n",
    "    Nevt[n]  = nevt\n",
    "    i       += 1\n",
    "\n",
    "plt.tight_layout()\n",
    "save(\"Event_distribution_different_pitches_XY\")"
   ]
  },
  {
   "cell_type": "code",
   "execution_count": null,
   "metadata": {},
   "outputs": [],
   "source": [
    "for i, n in enumerate(XYnbins, start=1):\n",
    "    nevt     = Nevt[n]\n",
    "    xypitch  = XYpitch[n]\n",
    "    nevt_max = int(np.max(nevt))\n",
    "\n",
    "    plt.subplot(nY, nX, i)\n",
    "    plt.hist(nevt.flatten(), nevt_max, (1, nevt_max+1))\n",
    "    labels(\"Number of events per bin\", \"Entries\", f\"# events per bin for {xypitch:.1f} mm pitch\")\n",
    "    i += 1\n",
    "\n",
    "plt.tight_layout()\n",
    "save(\"Event_distribution_different_pitches\")"
   ]
  },
  {
   "cell_type": "markdown",
   "metadata": {},
   "source": [
    "### Compute geometry map"
   ]
  },
  {
   "cell_type": "code",
   "execution_count": null,
   "metadata": {},
   "outputs": [],
   "source": [
    "Eave  = {}\n",
    "Eaveu = {}\n",
    "\n",
    "E_mean  = {}\n",
    "Eu_mean = {}\n",
    "E_std   = {}\n",
    "Eu_std  = {}\n",
    "\n",
    "E_min  = {}\n",
    "E_max  = {}\n",
    "Eu_min = {}\n",
    "Eu_max = {}\n",
    "\n",
    "Qave  = {}\n",
    "Qaveu = {}\n",
    "\n",
    "Q_mean  = {}\n",
    "Qu_mean = {}\n",
    "Q_std   = {}\n",
    "Qu_std  = {}\n",
    "\n",
    "Q_min  = {}\n",
    "Q_max  = {}\n",
    "Qu_min = {}\n",
    "Qu_max = {}\n",
    "\n",
    "for n in XYnbins:\n",
    "    *_, Eave_, Eaveu_ = fitf.profileXY(X, Y, E, n, n, XYrange, XYrange)\n",
    "    *_, Qave_, Qaveu_ = fitf.profileXY(X, Y, Q, n, n, XYrange, XYrange)\n",
    "\n",
    "    Eaveu_            = relative_errors(Eave_, Eaveu_, percentual=True)\n",
    "    Qaveu_            = relative_errors(Qave_, Qaveu_, percentual=True)\n",
    "\n",
    "    Eok               = Eave_ > 1e3\n",
    "    Qok               = Qave_ > 1e1\n",
    "\n",
    "    Eave   [n] = Eave_\n",
    "    Eaveu  [n] = Eaveu_\n",
    "    \n",
    "    E_mean [n] = np.mean(Eave_ [Eok])\n",
    "    E_std  [n] = np.std (Eave_ [Eok])\n",
    "    Eu_mean[n] = np.mean(Eaveu_[Eok])\n",
    "    Eu_std [n] = np.std (Eaveu_[Eok])\n",
    "    \n",
    "    E_min  [n] =      E_mean[n] - 3.0 *  E_std[n]\n",
    "    E_max  [n] =      E_mean[n] + 2.0 *  E_std[n]\n",
    "\n",
    "    Eu_min [n] = max(Eu_mean[n] - 1.5 * Eu_std[n], 1e-3)\n",
    "    Eu_max [n] =     Eu_mean[n] + 2.0 * Eu_std[n]\n",
    "\n",
    "    \n",
    "    Qave   [n] = Qave_\n",
    "    Qaveu  [n] = Qaveu_\n",
    "    \n",
    "    Q_mean [n] = np.mean(Qave_ [Qok])\n",
    "    Q_std  [n] = np.std (Qave_ [Qok])\n",
    "    Qu_mean[n] = np.mean(Qaveu_[Qok])\n",
    "    Qu_std [n] = np.std (Qaveu_[Qok])\n",
    "    \n",
    "    Q_min  [n] =      Q_mean[n] - 3.0 *  Q_std[n]\n",
    "    Q_max  [n] =      Q_mean[n] + 2.0 *  Q_std[n]\n",
    "\n",
    "    Qu_min [n] = max(Qu_mean[n] - 1.5 * Qu_std[n], 1e-3)\n",
    "    Qu_max [n] =     Qu_mean[n] + 2.0 * Qu_std[n]"
   ]
  },
  {
   "cell_type": "markdown",
   "metadata": {},
   "source": [
    "### Fit example"
   ]
  },
  {
   "cell_type": "code",
   "execution_count": null,
   "metadata": {},
   "outputs": [],
   "source": [
    "xlim =  15,  20\n",
    "ylim = -25, -10\n",
    "sel  = in_range(X, *xlim) & in_range(Y, *ylim)\n",
    "e    = E[sel]\n",
    "\n",
    "frame_data = plt.gcf().add_axes((.1, .3,\n",
    "                                 .8, .6))\n",
    "y, x, _   = hist(e, 100, new_figure=False)\n",
    "seed      = gauss_seed(x, y)\n",
    "fit_range = seed[1] - seed[2], seed[1] + seed[2]\n",
    "x, y      = x[in_range(x, *fit_range)], y[in_range(x, *fit_range)]\n",
    "f         = fitf.fit(fitf.gauss, x, y, seed, sigma=poisson_sigma(y))\n",
    "plt.plot(x, f.fn(x), \"r-\", lw=4)\n",
    "\n",
    "frame_data.set_xticklabels([])\n",
    "labels(\"\", \"Entries\", \"Energy fit example\")\n",
    "lims = plt.xlim()\n",
    "\n",
    "frame_res = plt.gcf().add_axes((.1, .1,\n",
    "                                .8, .2))\n",
    "plt.errorbar(x, (f.fn(x) - y) / poisson_sigma(y), 1, np.diff(x)[0]/2, fmt=\"p\", c=\"k\")\n",
    "plt.plot(lims, (0, 0), \"g--\")\n",
    "plt.xlim(*lims)\n",
    "plt.ylim(-5,+5)\n",
    "labels(\"Energy (pes)\", \"Standarized residual\")\n",
    "\n",
    "save(\"Energy_fit_example\")"
   ]
  },
  {
   "cell_type": "code",
   "execution_count": null,
   "metadata": {},
   "outputs": [],
   "source": [
    "xlim =  15,  20\n",
    "ylim = -25, -10\n",
    "sel  = in_range(X, *xlim) & in_range(Y, *ylim)\n",
    "q    = Q[sel]\n",
    "\n",
    "frame_data = plt.gcf().add_axes((.1, .3,\n",
    "                                 .8, .6))\n",
    "y, x, _   = hist(q, 100, new_figure=False)\n",
    "seed      = gauss_seed(x, y)\n",
    "fit_range = seed[1] - 3 * seed[2], seed[1] + 3 * seed[2]\n",
    "x, y      = x[in_range(x, *fit_range)], y[in_range(x, *fit_range)]\n",
    "f         = fitf.fit(fitf.gauss, x, y, seed, sigma=poisson_sigma(y))\n",
    "plt.plot(x, f.fn(x), \"r-\", lw=4)\n",
    "\n",
    "frame_data.set_xticklabels([])\n",
    "labels(\"\", \"Entries\", \"Energy fit example\")\n",
    "lims = plt.xlim()\n",
    "\n",
    "frame_res = plt.gcf().add_axes((.1, .1,\n",
    "                                .8, .2))\n",
    "plt.errorbar(x, (f.fn(x) - y) / poisson_sigma(y), 1, np.diff(x)[0]/2, fmt=\"p\", c=\"k\")\n",
    "plt.plot(lims, (0, 0), \"g--\")\n",
    "plt.xlim(*lims)\n",
    "plt.ylim(-5,+5)\n",
    "labels(\"Energy (pes)\", \"Standarized residual\")\n",
    "\n",
    "save(\"Charge_fit_example\")"
   ]
  },
  {
   "cell_type": "markdown",
   "metadata": {},
   "source": [
    "### Energy map display"
   ]
  },
  {
   "cell_type": "code",
   "execution_count": null,
   "metadata": {},
   "outputs": [],
   "source": [
    "for i, n in enumerate(XYnbins, start=1):\n",
    "    pitch = XYpitch[n]\n",
    "    plt.subplot(nY, nX, i)\n",
    "    plt.hist(Eave[n].flatten(), 100, (E_min[n], E_max[n]))\n",
    "    labels(\"Average energy (pes)\", \"Entries\", f\"Average energy for {pitch:.1f} mm pitch\")\n",
    "\n",
    "plt.tight_layout()\n",
    "save(\"Energy_distributions\")"
   ]
  },
  {
   "cell_type": "code",
   "execution_count": null,
   "metadata": {},
   "outputs": [],
   "source": [
    "for i, n in enumerate(XYnbins, start=1):\n",
    "    pitch = XYpitch[n]\n",
    "    plt.subplot(nY, nX, i)\n",
    "    plt.hist(Eaveu[n].flatten(), 100, (Eu_min[n], Eu_max[n]))\n",
    "    labels(\"Average energy uncertainty (%)\", \"Entries\", f\"Average energy unc. for {pitch:.1f} mm pitch\")\n",
    "\n",
    "plt.tight_layout()\n",
    "save(\"Energy_uncertainty_distributions\")"
   ]
  },
  {
   "cell_type": "code",
   "execution_count": null,
   "metadata": {},
   "outputs": [],
   "source": [
    "for i, n in enumerate(XYnbins, start=1):\n",
    "    pitch = XYpitch[n]\n",
    "    plt.subplot(nY, nX, i)\n",
    "    *_, cb = display_matrix(XYcenters[n], XYcenters[n], Eave[n],\n",
    "                            vmin = E_min[n],\n",
    "                            vmax = E_max[n],\n",
    "                            cmap = default_cmap,\n",
    "                            new_figure = False)\n",
    "    cb.set_label(\"Average energy (pes)\")\n",
    "    labels(\"X (mm)\", \"Y (mm)\", f\"Average energy for {pitch:.1f} mm pitch\")\n",
    "\n",
    "plt.tight_layout()\n",
    "save(\"Energy_maps\")"
   ]
  },
  {
   "cell_type": "code",
   "execution_count": null,
   "metadata": {},
   "outputs": [],
   "source": [
    "for i, n in enumerate(XYnbins, start=1):\n",
    "    pitch = XYpitch[n]\n",
    "    plt.subplot(nY, nX, i)\n",
    "    *_, cb = display_matrix(XYcenters[n], XYcenters[n], Eaveu[n],\n",
    "                            vmin = Eu_min[n],\n",
    "                            vmax = Eu_max[n],\n",
    "                            cmap = default_cmap,\n",
    "                            new_figure = False)\n",
    "    cb.set_label(\"Average energy uncertainty(%)\")\n",
    "    labels(\"X (mm)\", \"Y (mm)\", f\"Average energy unc. for {pitch:.1f} mm pitch\")\n",
    "\n",
    "plt.tight_layout()\n",
    "save(\"Energy_uncertainty_maps\")"
   ]
  },
  {
   "cell_type": "markdown",
   "metadata": {},
   "source": [
    "### Charge map display"
   ]
  },
  {
   "cell_type": "code",
   "execution_count": null,
   "metadata": {},
   "outputs": [],
   "source": [
    "for i, n in enumerate(XYnbins, start=1):\n",
    "    pitch = XYpitch[n]\n",
    "    plt.subplot(nY, nX, i)\n",
    "    plt.hist(Qave[n].flatten(), 100, (Q_min[n], Q_max[n]))\n",
    "    labels(\"Average charge (pes)\", \"Entries\", f\"Average charge for {pitch:.1f} mm pitch\")\n",
    "\n",
    "plt.tight_layout()\n",
    "save(\"Charge_distributions\")"
   ]
  },
  {
   "cell_type": "code",
   "execution_count": null,
   "metadata": {},
   "outputs": [],
   "source": [
    "for i, n in enumerate(XYnbins, start=1):\n",
    "    pitch = XYpitch[n]\n",
    "    plt.subplot(nY, nX, i)\n",
    "    plt.hist(Qaveu[n].flatten(), 100, (Qu_min[n], Qu_max[n]))\n",
    "    labels(\"Average charge uncertainty (%)\", \"Entries\", f\"Average charge unc. for {pitch:.1f} mm pitch\")\n",
    "\n",
    "plt.tight_layout()\n",
    "save(\"Charge_uncertainty_distributions\")"
   ]
  },
  {
   "cell_type": "code",
   "execution_count": null,
   "metadata": {},
   "outputs": [],
   "source": [
    "for i, n in enumerate(XYnbins, start=1):\n",
    "    pitch = XYpitch[n]\n",
    "    plt.subplot(nY, nX, i)\n",
    "    *_, cb = display_matrix(XYcenters[n], XYcenters[n], Qave[n],\n",
    "                            vmin = Q_min[n],\n",
    "                            vmax = Q_max[n],\n",
    "                            cmap = default_cmap,\n",
    "                            new_figure = False)\n",
    "    cb.set_label(\"Average charge (pes)\")\n",
    "    labels(\"X (mm)\", \"Y (mm)\", f\"Average charge for {pitch:.1f} mm pitch\")\n",
    "\n",
    "plt.tight_layout()\n",
    "save(\"Charge_maps\")"
   ]
  },
  {
   "cell_type": "code",
   "execution_count": null,
   "metadata": {},
   "outputs": [],
   "source": [
    "for i, n in enumerate(XYnbins, start=1):\n",
    "    pitch = XYpitch[n]\n",
    "    plt.subplot(nY, nX, i)\n",
    "    *_, cb = display_matrix(XYcenters[n], XYcenters[n], Qaveu[n],\n",
    "                            vmin = Eu_min[n],\n",
    "                            vmax = Eu_max[n],\n",
    "                            cmap = default_cmap,\n",
    "                            new_figure = False)\n",
    "    cb.set_label(\"Average charge uncertainty(%)\")\n",
    "    labels(\"X (mm)\", \"Y (mm)\", f\"Average charge unc. for {pitch:.1f} mm pitch\")\n",
    "\n",
    "plt.tight_layout()\n",
    "save(\"Charge_uncertainty_maps\")"
   ]
  },
  {
   "cell_type": "markdown",
   "metadata": {},
   "source": [
    "### Produce HDF5 output"
   ]
  },
  {
   "cell_type": "code",
   "execution_count": null,
   "metadata": {},
   "outputs": [],
   "source": [
    "with tb.open_file(correction_filename, \"r+\") as output_file:\n",
    "    for n in XYnbins:\n",
    "        pitch      = XYpitch[n]\n",
    "        group      =  \"XYcorrections\"\n",
    "        table_name = f\"GeometryE_{pitch:.1f}mm\"\n",
    "        if (overwrite                                      and\n",
    "            group      in output_file.root                 and\n",
    "            table_name in getattr(output_file.root, group)):\n",
    "            output_file.remove_node(getattr(output_file.root, group), table_name)\n",
    "        write = kdstio.xy_correction_writer(output_file,\n",
    "                                            group      = group,\n",
    "                                            table_name = table_name)\n",
    "        write(XYcenters[n], XYcenters[n], Eave[n], Eaveu[n] * Eave[n] / 100, Nevt[n])\n",
    "\n",
    "        table = getattr(getattr(output_file.root, group), table_name)\n",
    "        table.attrs.xy_bins  = n\n",
    "        table.attrs.xy_pitch = pitch\n",
    "\n",
    "        table_name = f\"GeometryQ_{pitch:.1f}mm\"\n",
    "        if (overwrite                                      and\n",
    "            group      in output_file.root                 and\n",
    "            table_name in getattr(output_file.root, group)):\n",
    "            output_file.remove_node(getattr(output_file.root, group), table_name)\n",
    "        write = kdstio.xy_correction_writer(output_file,\n",
    "                                            group      = group,\n",
    "                                            table_name = table_name)\n",
    "        write(XYcenters[n], XYcenters[n], Qave[n], Qaveu[n] * Qave[n] / 100, Nevt[n])\n",
    "\n",
    "        table = getattr(getattr(output_file.root, group), table_name)\n",
    "        table.attrs.xy_bins  = n\n",
    "        table.attrs.xy_pitch = pitch"
   ]
  }
 ],
 "metadata": {
  "kernelspec": {
   "display_name": "Python 3",
   "language": "python",
   "name": "python3"
  },
  "language_info": {
   "codemirror_mode": {
    "name": "ipython",
    "version": 3
   },
   "file_extension": ".py",
   "mimetype": "text/x-python",
   "name": "python",
   "nbconvert_exporter": "python",
   "pygments_lexer": "ipython3",
   "version": "3.6.1"
  }
 },
 "nbformat": 4,
 "nbformat_minor": 2
}
