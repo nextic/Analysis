{
 "cells": [
  {
   "cell_type": "markdown",
   "metadata": {},
   "source": [
    "# EVENT PLOTS -- GUI version"
   ]
  },
  {
   "cell_type": "markdown",
   "metadata": {},
   "source": [
    "A NB template to produce event plots (GUI version)"
   ]
  },
  {
   "cell_type": "code",
   "execution_count": null,
   "metadata": {
    "collapsed": false
   },
   "outputs": [],
   "source": [
    "import datetime\n",
    "print(datetime.datetime.now().strftime('%Y-%m-%d %H:%M:%S'))"
   ]
  },
  {
   "cell_type": "code",
   "execution_count": null,
   "metadata": {
    "collapsed": false
   },
   "outputs": [],
   "source": [
    "%gui qt\n",
    "%load_ext autoreload\n",
    "%autoreload 2"
   ]
  },
  {
   "cell_type": "code",
   "execution_count": null,
   "metadata": {
    "collapsed": false
   },
   "outputs": [],
   "source": [
    "import sys\n",
    "import os\n",
    "import time\n",
    "import tables as tb\n",
    "import numpy as np"
   ]
  },
  {
   "cell_type": "code",
   "execution_count": null,
   "metadata": {
    "collapsed": false
   },
   "outputs": [],
   "source": [
    "from invisible_cities.database import load_db"
   ]
  },
  {
   "cell_type": "code",
   "execution_count": null,
   "metadata": {
    "collapsed": false
   },
   "outputs": [],
   "source": [
    "import invisible_cities.reco.tbl_functions as tbl\n",
    "import invisible_cities.reco.wfm_functions as wfm\n",
    "import invisible_cities.sierpe.blr as blr\n",
    "import invisible_cities.reco.peak_functions_c as cpf\n",
    "from invisible_cities.core.mpl_functions import set_plot_labels\n",
    "from invisible_cities.reco.params import S12Params, ThresholdParams\n",
    "from   invisible_cities.core.system_of_units_c import units"
   ]
  },
  {
   "cell_type": "code",
   "execution_count": null,
   "metadata": {
    "collapsed": false
   },
   "outputs": [],
   "source": [
    "from icaro.core.gui_functions import fplot_pmt_waveforms, fplot_pmt_signals_vs_time_mus, fplot_signal_vs_time_mus,\\\n",
    "                           fplot_s12, hist_1d"
   ]
  },
  {
   "cell_type": "code",
   "execution_count": null,
   "metadata": {
    "collapsed": false
   },
   "outputs": [],
   "source": [
    "from icaro.core.event_pmaps import EventPmaps, print_s12, print_s2si"
   ]
  },
  {
   "cell_type": "markdown",
   "metadata": {},
   "source": [
    "### Import GUI"
   ]
  },
  {
   "cell_type": "code",
   "execution_count": null,
   "metadata": {
    "collapsed": true
   },
   "outputs": [],
   "source": [
    "from qt_gui import QtGui"
   ]
  },
  {
   "cell_type": "code",
   "execution_count": null,
   "metadata": {
    "collapsed": true
   },
   "outputs": [],
   "source": [
    "gui=QtGui()\n",
    "gui.show()"
   ]
  },
  {
   "cell_type": "markdown",
   "metadata": {},
   "source": [
    "#### Function scan_events loops over events and plots waveforms"
   ]
  },
  {
   "cell_type": "code",
   "execution_count": null,
   "metadata": {
    "collapsed": false
   },
   "outputs": [],
   "source": [
    "def scan_events(epm, gui, pmtrwf, sipmrwf, \n",
    "                event_list=list(range(1)), \n",
    "                event_plot_list=list(range(1)), \n",
    "                printout=10):\n",
    "    \"\"\"Loop over events\"\"\"\n",
    "    \n",
    "    for event in event_list:\n",
    "        if(event%printout == 0):\n",
    "            print('++++++processing event number {}'.format(event))\n",
    "        epm.calibrated_pmt_and_csum(event, pmtrwf)\n",
    "        epm.calibrated_sipm(event, sipmrwf)\n",
    "        \n",
    "        if(event%printout == 0):\n",
    "            print('--S1 search')\n",
    "        epm.find_s1()\n",
    "        \n",
    "        if(event%printout == 0):\n",
    "            print('--S2 search')\n",
    "        epm.find_s2()\n",
    "        \n",
    "        if (len(epm.S2) > 0):\n",
    "            epm.find_s2si()\n",
    "        \n",
    "        if event in event_plot_list:\n",
    "            gui.add_figure('RWF-event-{}'.format(event), \n",
    "                            fplot_pmt_waveforms(epm.RWF, zoom=False, window_size=10000))\n",
    "            gui.add_figure('CWF_vs_time_mus-event-{}'.format(event), \n",
    "                            fplot_pmt_signals_vs_time_mus(epm.CWF,\n",
    "                                                         epm.P.pmt_active,\n",
    "                                                         t_min      =    0,\n",
    "                                                         t_max      = 1300,\n",
    "                                                         signal_min =    -5,\n",
    "                                                         signal_max =  200))\n",
    "            gui.add_figure('Calibrated_SUM-event-{}'.format(event), \n",
    "                            fplot_signal_vs_time_mus(epm.csum, t_min=0, t_max=1300, signal_min=-5, signal_max=100))\n",
    "            if (len(epm.S1) > 0):\n",
    "                gui.add_figure('S1-event-{}'.format(event), fplot_s12(epm.S1))\n",
    "            if (len(epm.S2) > 0):\n",
    "                gui.add_figure('S2-event-{}'.format(event), fplot_s12(epm.S2))"
   ]
  },
  {
   "cell_type": "markdown",
   "metadata": {},
   "source": [
    "## Define here the  events to analyze"
   ]
  },
  {
   "cell_type": "markdown",
   "metadata": {},
   "source": [
    "### Krypton\n",
    "\n",
    "1. Run 3389\n",
    "\n",
    "Start Date     End Date     Duration (sec)\n",
    "\n",
    "2017-03-23 20:52:16     2017-03-25 11:22:54     138638\n",
    "\n",
    "trigger rate: 4.65 evt/s\n",
    "\n",
    "events: 645.505\n",
    "\n",
    "Trigger in 5 pmts with:\n",
    "\n",
    "1. baseline dev: 15\n",
    "2. max amplitude: 1000\n",
    "3. qmin: 3000\n",
    "4. qmax: 20000\n",
    "5. min time: 4us\n",
    "6. max time: 12us"
   ]
  },
  {
   "cell_type": "markdown",
   "metadata": {},
   "source": [
    "#### PMAPS for Kr"
   ]
  },
  {
   "cell_type": "raw",
   "metadata": {},
   "source": [
    "s1par  = S12Params(tmin=0*units.mus, tmax=640*units.mus, lmin=5, lmax=20, stride=4, rebin=False)\n",
    "s2par = S12Params(tmin=640*units.mus, tmax=800*units.mus, stride=40, lmin=80, lmax=20000, rebin=True)\n",
    "thr    = ThresholdParams(thr_s1=0.5 * units.pes,  thr_s2=1 *units.pes,\n",
    "                        thr_MAU = 3 * units.adc, thr_sipm = 3.5 * units.pes,\n",
    "                        thr_SIPM = 30 * units.adc)"
   ]
  },
  {
   "cell_type": "markdown",
   "metadata": {},
   "source": [
    "#### Files for Kr"
   ]
  },
  {
   "cell_type": "markdown",
   "metadata": {},
   "source": [
    "RWF_file_kr = os.path.join(os.environ['IC_DATA'],\n",
    "                        'LSC/wvfms/{}/dst_waves.gdcsnext.000_{}.root.h5'.format(run_number, run_number))"
   ]
  },
  {
   "cell_type": "markdown",
   "metadata": {},
   "source": [
    "### Na-22\n",
    "\n",
    "1. Run 3574, 3575\n",
    "2. Threshold baseline 20 counts\n",
    "3. Qmin = 90,0000 counts\n",
    "4. width min > 7 mus\n",
    "5. 5 PMTs / 11"
   ]
  },
  {
   "cell_type": "markdown",
   "metadata": {},
   "source": [
    "#### PMAPS parameters Na-22"
   ]
  },
  {
   "cell_type": "raw",
   "metadata": {},
   "source": [
    "s1par  = S12Params(tmin=0*units.mus, tmax=640*units.mus, lmin=8, lmax=20, stride=4, rebin=False)\n",
    "s2par = S12Params(tmin=645*units.mus, tmax=1300*units.mus, stride=80, lmin=80, lmax=20000, rebin=True)\n",
    "thr    = ThresholdParams(thr_s1=3 * units.pes,  thr_s2=5 *units.pes,\n",
    "                        thr_MAU = 3 * units.adc, thr_sipm = 3.5 * units.pes,\n",
    "                        thr_SIPM = 30 * units.adc)"
   ]
  },
  {
   "cell_type": "markdown",
   "metadata": {},
   "source": [
    "#### Files parameters Na-22"
   ]
  },
  {
   "cell_type": "raw",
   "metadata": {},
   "source": [
    "RWF_file_na22 = os.path.join(os.environ['IC_DATA'],\n",
    "                        'LSC/wvfms/{}/run_{}.gdc1next.next-new.000.rd_{}.root.h5'.format(run_number, \n",
    "                                                                                         run_number,\n",
    "                                                                                         run_number))\n",
    "\n"
   ]
  },
  {
   "cell_type": "markdown",
   "metadata": {},
   "source": [
    "### Alphas\n",
    "\n",
    "1. run_number = 3452"
   ]
  },
  {
   "cell_type": "markdown",
   "metadata": {},
   "source": [
    "#### PMAPS parameters for alphas"
   ]
  },
  {
   "cell_type": "markdown",
   "metadata": {},
   "source": [
    "s1par  = S12Params(tmin=0*units.mus, tmax=650*units.mus, lmin=10, lmax=30, stride=4, rebin=False)\n",
    "s2par = S12Params(tmin=630*units.mus, tmax=800*units.mus, stride=40, lmin=80, lmax=20000, rebin=True)\n",
    "thr    = ThresholdParams(thr_s1=10 * units.pes,  thr_s2=10 *units.pes,\n",
    "                        thr_MAU = 3 * units.adc, thr_sipm = 3.5 * units.pes,\n",
    "                        thr_SIPM = 30 * units.adc)"
   ]
  },
  {
   "cell_type": "markdown",
   "metadata": {},
   "source": [
    "#### Files for alphas"
   ]
  },
  {
   "cell_type": "raw",
   "metadata": {},
   "source": [
    "RWF_file_alphas = os.path.join(os.environ['IC_DATA'],\n",
    "                        'LSC/wvfms/{}/dst_waves.gdcsnext.001_{}.root.h5'.format(run_number, run_number))\n",
    "\n"
   ]
  },
  {
   "cell_type": "markdown",
   "metadata": {},
   "source": [
    "## Chose events to analyze"
   ]
  },
  {
   "cell_type": "markdown",
   "metadata": {},
   "source": [
    "#### event type: alphas"
   ]
  },
  {
   "cell_type": "code",
   "execution_count": null,
   "metadata": {
    "collapsed": false
   },
   "outputs": [],
   "source": [
    "run_number = 3452"
   ]
  },
  {
   "cell_type": "code",
   "execution_count": null,
   "metadata": {
    "collapsed": false
   },
   "outputs": [],
   "source": [
    "DataPMT = load_db.DataPMT(run_number)"
   ]
  },
  {
   "cell_type": "markdown",
   "metadata": {},
   "source": [
    "#### Files"
   ]
  },
  {
   "cell_type": "code",
   "execution_count": null,
   "metadata": {
    "collapsed": false
   },
   "outputs": [],
   "source": [
    "RWF_file = os.path.join(os.environ['IC_DATA'],\n",
    "                        'LSC/wvfms/{}/dst_waves.gdcsnext.001_{}.root.h5'.format(run_number, run_number))\n",
    "\n",
    "\n"
   ]
  },
  {
   "cell_type": "markdown",
   "metadata": {},
   "source": [
    "### Define selection parameters for PMAPS"
   ]
  },
  {
   "cell_type": "code",
   "execution_count": null,
   "metadata": {
    "collapsed": false
   },
   "outputs": [],
   "source": [
    "s1par  = S12Params(tmin=0*units.mus, tmax=650*units.mus, lmin=10, lmax=30, stride=4, rebin=False)\n",
    "s2par = S12Params(tmin=630*units.mus, tmax=800*units.mus, stride=40, lmin=80, lmax=20000, rebin=True)\n",
    "thr    = ThresholdParams(thr_s1=10 * units.pes,  thr_s2=10 *units.pes,\n",
    "                        thr_MAU = 3 * units.adc, thr_sipm = 3.5 * units.pes,\n",
    "                        thr_SIPM = 30 * units.adc)"
   ]
  },
  {
   "cell_type": "code",
   "execution_count": null,
   "metadata": {
    "collapsed": false
   },
   "outputs": [],
   "source": [
    "h5rwf = tb.open_file(RWF_file,'r')"
   ]
  },
  {
   "cell_type": "code",
   "execution_count": null,
   "metadata": {
    "collapsed": false
   },
   "outputs": [],
   "source": [
    "pmtrwf, pmtblr, sipmrwf = tbl.get_vectors(h5rwf)"
   ]
  },
  {
   "cell_type": "code",
   "execution_count": null,
   "metadata": {
    "collapsed": false
   },
   "outputs": [],
   "source": [
    "NEVT, NPMT, PMTWL = pmtrwf.shape\n",
    "NEVT, NSIPM, SIPMWL = sipmrwf.shape\n",
    "print(\"\"\"\n",
    "        Number of events in file = {}\n",
    "        Number of PMTs = {}\n",
    "        PMTWL = {}\n",
    "        Number of SiPMs = {}\n",
    "        SiPMWL = {}\n",
    "      \"\"\".format(NEVT, NPMT, PMTWL,NSIPM, SIPMWL))"
   ]
  },
  {
   "cell_type": "code",
   "execution_count": null,
   "metadata": {
    "collapsed": true
   },
   "outputs": [],
   "source": [
    "epm = EventPmaps(run_number, s1par, s2par, thr, verbose=True)"
   ]
  },
  {
   "cell_type": "code",
   "execution_count": null,
   "metadata": {
    "collapsed": false,
    "scrolled": false
   },
   "outputs": [],
   "source": [
    "n_events = 5\n",
    "sample_plot = 1\n",
    "t0 = time.time()\n",
    "scan_events(epm, gui, pmtrwf, sipmrwf, \n",
    "            event_list=list(range(n_events)), \n",
    "            event_plot_list=list(range(0,n_events,sample_plot)),\n",
    "           printout=1)\n",
    "t1 = time.time()        \n",
    "dt = t1 - t0\n",
    "print(\"run {} events in {} s event/s = {}\".format(n_events, dt, dt/n_events))"
   ]
  },
  {
   "cell_type": "code",
   "execution_count": null,
   "metadata": {
    "collapsed": true
   },
   "outputs": [],
   "source": []
  }
 ],
 "metadata": {
  "kernelspec": {
   "display_name": "Python 3",
   "language": "python",
   "name": "python3"
  },
  "language_info": {
   "codemirror_mode": {
    "name": "ipython",
    "version": 3
   },
   "file_extension": ".py",
   "mimetype": "text/x-python",
   "name": "python",
   "nbconvert_exporter": "python",
   "pygments_lexer": "ipython3",
   "version": "3.6.0"
  }
 },
 "nbformat": 4,
 "nbformat_minor": 2
}
