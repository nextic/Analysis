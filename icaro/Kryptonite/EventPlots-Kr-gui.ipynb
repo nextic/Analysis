{
 "cells": [
  {
   "cell_type": "markdown",
   "metadata": {},
   "source": [
    "# EVENT PLOTS for Krypton"
   ]
  },
  {
   "cell_type": "markdown",
   "metadata": {},
   "source": [
    "A NB template to produce event plots (GUI version)"
   ]
  },
  {
   "cell_type": "code",
   "execution_count": 1,
   "metadata": {
    "collapsed": false
   },
   "outputs": [
    {
     "name": "stdout",
     "output_type": "stream",
     "text": [
      "2017-04-05 16:54:24\n"
     ]
    }
   ],
   "source": [
    "import datetime\n",
    "print(datetime.datetime.now().strftime('%Y-%m-%d %H:%M:%S'))"
   ]
  },
  {
   "cell_type": "code",
   "execution_count": 2,
   "metadata": {
    "collapsed": false
   },
   "outputs": [],
   "source": [
    "%gui qt\n",
    "%load_ext autoreload\n",
    "%autoreload 2"
   ]
  },
  {
   "cell_type": "code",
   "execution_count": 3,
   "metadata": {
    "collapsed": false
   },
   "outputs": [],
   "source": [
    "import sys\n",
    "import os\n",
    "import time\n",
    "import tables as tb\n",
    "import numpy as np"
   ]
  },
  {
   "cell_type": "code",
   "execution_count": 4,
   "metadata": {
    "collapsed": false
   },
   "outputs": [],
   "source": [
    "from invisible_cities.database import load_db"
   ]
  },
  {
   "cell_type": "code",
   "execution_count": 5,
   "metadata": {
    "collapsed": false
   },
   "outputs": [],
   "source": [
    "import invisible_cities.reco.tbl_functions as tbl\n",
    "import invisible_cities.reco.wfm_functions as wfm\n",
    "import invisible_cities.sierpe.blr as blr\n",
    "import invisible_cities.reco.peak_functions_c as cpf\n",
    "from invisible_cities.core.mpl_functions import set_plot_labels\n",
    "from invisible_cities.reco.params import S12Params, ThresholdParams\n",
    "from   invisible_cities.core.system_of_units_c import units"
   ]
  },
  {
   "cell_type": "code",
   "execution_count": 6,
   "metadata": {
    "collapsed": false
   },
   "outputs": [],
   "source": [
    "from gui_functions import fplot_pmt_waveforms, fplot_pmt_signals_vs_time_mus, fplot_signal_vs_time_mus,\\\n",
    "                           fplot_s12, hist_1d"
   ]
  },
  {
   "cell_type": "code",
   "execution_count": 7,
   "metadata": {
    "collapsed": false
   },
   "outputs": [],
   "source": [
    "from event_pmaps import EventPmaps, print_s12, print_s2si"
   ]
  },
  {
   "cell_type": "code",
   "execution_count": 8,
   "metadata": {
    "collapsed": false
   },
   "outputs": [],
   "source": [
    "run_number = 3389"
   ]
  },
  {
   "cell_type": "code",
   "execution_count": 9,
   "metadata": {
    "collapsed": false
   },
   "outputs": [],
   "source": [
    "DataPMT = load_db.DataPMT(run_number)"
   ]
  },
  {
   "cell_type": "code",
   "execution_count": 10,
   "metadata": {
    "collapsed": false
   },
   "outputs": [
    {
     "data": {
      "text/html": [
       "<div>\n",
       "<table border=\"1\" class=\"dataframe\">\n",
       "  <thead>\n",
       "    <tr style=\"text-align: right;\">\n",
       "      <th></th>\n",
       "      <th>SensorID</th>\n",
       "      <th>ChannelID</th>\n",
       "      <th>PmtID</th>\n",
       "      <th>Active</th>\n",
       "      <th>X</th>\n",
       "      <th>Y</th>\n",
       "      <th>coeff_blr</th>\n",
       "      <th>coeff_c</th>\n",
       "      <th>adc_to_pes</th>\n",
       "      <th>noise_rms</th>\n",
       "      <th>Sigma</th>\n",
       "    </tr>\n",
       "  </thead>\n",
       "  <tbody>\n",
       "    <tr>\n",
       "      <th>0</th>\n",
       "      <td>0</td>\n",
       "      <td>22</td>\n",
       "      <td>PMT1</td>\n",
       "      <td>1</td>\n",
       "      <td>-23.9414</td>\n",
       "      <td>65.7785</td>\n",
       "      <td>0.00080</td>\n",
       "      <td>0.000001</td>\n",
       "      <td>25.39</td>\n",
       "      <td>0.7160</td>\n",
       "      <td>9.474</td>\n",
       "    </tr>\n",
       "    <tr>\n",
       "      <th>1</th>\n",
       "      <td>1</td>\n",
       "      <td>18</td>\n",
       "      <td>PMT3</td>\n",
       "      <td>1</td>\n",
       "      <td>-44.9951</td>\n",
       "      <td>-53.6231</td>\n",
       "      <td>0.00080</td>\n",
       "      <td>0.000001</td>\n",
       "      <td>26.49</td>\n",
       "      <td>0.8744</td>\n",
       "      <td>10.510</td>\n",
       "    </tr>\n",
       "    <tr>\n",
       "      <th>2</th>\n",
       "      <td>2</td>\n",
       "      <td>23</td>\n",
       "      <td>PMT2</td>\n",
       "      <td>1</td>\n",
       "      <td>68.9365</td>\n",
       "      <td>-12.1554</td>\n",
       "      <td>0.00080</td>\n",
       "      <td>0.000001</td>\n",
       "      <td>27.74</td>\n",
       "      <td>0.7303</td>\n",
       "      <td>9.031</td>\n",
       "    </tr>\n",
       "    <tr>\n",
       "      <th>3</th>\n",
       "      <td>3</td>\n",
       "      <td>0</td>\n",
       "      <td>PMT4</td>\n",
       "      <td>1</td>\n",
       "      <td>0.0000</td>\n",
       "      <td>185.0000</td>\n",
       "      <td>0.00161</td>\n",
       "      <td>0.000003</td>\n",
       "      <td>25.17</td>\n",
       "      <td>0.7060</td>\n",
       "      <td>8.720</td>\n",
       "    </tr>\n",
       "    <tr>\n",
       "      <th>4</th>\n",
       "      <td>4</td>\n",
       "      <td>31</td>\n",
       "      <td>PMTC</td>\n",
       "      <td>1</td>\n",
       "      <td>-118.9160</td>\n",
       "      <td>141.7180</td>\n",
       "      <td>0.00160</td>\n",
       "      <td>0.000003</td>\n",
       "      <td>26.56</td>\n",
       "      <td>0.7000</td>\n",
       "      <td>8.910</td>\n",
       "    </tr>\n",
       "    <tr>\n",
       "      <th>5</th>\n",
       "      <td>5</td>\n",
       "      <td>8</td>\n",
       "      <td>PMTB</td>\n",
       "      <td>1</td>\n",
       "      <td>-182.1890</td>\n",
       "      <td>32.1249</td>\n",
       "      <td>0.00161</td>\n",
       "      <td>0.000003</td>\n",
       "      <td>21.55</td>\n",
       "      <td>0.7278</td>\n",
       "      <td>6.900</td>\n",
       "    </tr>\n",
       "    <tr>\n",
       "      <th>6</th>\n",
       "      <td>6</td>\n",
       "      <td>5</td>\n",
       "      <td>PMTA</td>\n",
       "      <td>1</td>\n",
       "      <td>-160.2150</td>\n",
       "      <td>-92.5000</td>\n",
       "      <td>0.00161</td>\n",
       "      <td>0.000003</td>\n",
       "      <td>23.86</td>\n",
       "      <td>0.7323</td>\n",
       "      <td>7.860</td>\n",
       "    </tr>\n",
       "    <tr>\n",
       "      <th>7</th>\n",
       "      <td>7</td>\n",
       "      <td>4</td>\n",
       "      <td>PMT9</td>\n",
       "      <td>1</td>\n",
       "      <td>-63.2737</td>\n",
       "      <td>-173.8430</td>\n",
       "      <td>0.00161</td>\n",
       "      <td>0.000003</td>\n",
       "      <td>33.57</td>\n",
       "      <td>0.7206</td>\n",
       "      <td>11.750</td>\n",
       "    </tr>\n",
       "    <tr>\n",
       "      <th>8</th>\n",
       "      <td>8</td>\n",
       "      <td>1</td>\n",
       "      <td>PMT8</td>\n",
       "      <td>1</td>\n",
       "      <td>63.2737</td>\n",
       "      <td>-173.8430</td>\n",
       "      <td>0.00162</td>\n",
       "      <td>0.000003</td>\n",
       "      <td>22.15</td>\n",
       "      <td>0.7213</td>\n",
       "      <td>7.070</td>\n",
       "    </tr>\n",
       "    <tr>\n",
       "      <th>9</th>\n",
       "      <td>10</td>\n",
       "      <td>27</td>\n",
       "      <td>PMT6</td>\n",
       "      <td>1</td>\n",
       "      <td>182.1890</td>\n",
       "      <td>32.1249</td>\n",
       "      <td>0.00080</td>\n",
       "      <td>0.000001</td>\n",
       "      <td>20.83</td>\n",
       "      <td>0.7921</td>\n",
       "      <td>6.780</td>\n",
       "    </tr>\n",
       "    <tr>\n",
       "      <th>10</th>\n",
       "      <td>11</td>\n",
       "      <td>26</td>\n",
       "      <td>PMT5</td>\n",
       "      <td>1</td>\n",
       "      <td>118.9160</td>\n",
       "      <td>141.7180</td>\n",
       "      <td>0.00080</td>\n",
       "      <td>0.000001</td>\n",
       "      <td>23.78</td>\n",
       "      <td>0.8660</td>\n",
       "      <td>8.050</td>\n",
       "    </tr>\n",
       "    <tr>\n",
       "      <th>11</th>\n",
       "      <td>9</td>\n",
       "      <td>30</td>\n",
       "      <td>PMT7</td>\n",
       "      <td>0</td>\n",
       "      <td>160.2150</td>\n",
       "      <td>-92.5000</td>\n",
       "      <td>0.00000</td>\n",
       "      <td>0.000000</td>\n",
       "      <td>0.00</td>\n",
       "      <td>0.0000</td>\n",
       "      <td>0.000</td>\n",
       "    </tr>\n",
       "  </tbody>\n",
       "</table>\n",
       "</div>"
      ],
      "text/plain": [
       "    SensorID  ChannelID PmtID  Active         X         Y  coeff_blr  \\\n",
       "0          0         22  PMT1       1  -23.9414   65.7785    0.00080   \n",
       "1          1         18  PMT3       1  -44.9951  -53.6231    0.00080   \n",
       "2          2         23  PMT2       1   68.9365  -12.1554    0.00080   \n",
       "3          3          0  PMT4       1    0.0000  185.0000    0.00161   \n",
       "4          4         31  PMTC       1 -118.9160  141.7180    0.00160   \n",
       "5          5          8  PMTB       1 -182.1890   32.1249    0.00161   \n",
       "6          6          5  PMTA       1 -160.2150  -92.5000    0.00161   \n",
       "7          7          4  PMT9       1  -63.2737 -173.8430    0.00161   \n",
       "8          8          1  PMT8       1   63.2737 -173.8430    0.00162   \n",
       "9         10         27  PMT6       1  182.1890   32.1249    0.00080   \n",
       "10        11         26  PMT5       1  118.9160  141.7180    0.00080   \n",
       "11         9         30  PMT7       0  160.2150  -92.5000    0.00000   \n",
       "\n",
       "     coeff_c  adc_to_pes  noise_rms   Sigma  \n",
       "0   0.000001       25.39     0.7160   9.474  \n",
       "1   0.000001       26.49     0.8744  10.510  \n",
       "2   0.000001       27.74     0.7303   9.031  \n",
       "3   0.000003       25.17     0.7060   8.720  \n",
       "4   0.000003       26.56     0.7000   8.910  \n",
       "5   0.000003       21.55     0.7278   6.900  \n",
       "6   0.000003       23.86     0.7323   7.860  \n",
       "7   0.000003       33.57     0.7206  11.750  \n",
       "8   0.000003       22.15     0.7213   7.070  \n",
       "9   0.000001       20.83     0.7921   6.780  \n",
       "10  0.000001       23.78     0.8660   8.050  \n",
       "11  0.000000        0.00     0.0000   0.000  "
      ]
     },
     "execution_count": 10,
     "metadata": {},
     "output_type": "execute_result"
    }
   ],
   "source": [
    "DataPMT"
   ]
  },
  {
   "cell_type": "code",
   "execution_count": 11,
   "metadata": {
    "collapsed": false
   },
   "outputs": [],
   "source": [
    "from PyQt5 import QtCore, QtWidgets, uic\n",
    "from matplotlib.backends.backend_qt5agg import (\n",
    "    FigureCanvasQTAgg as FigureCanvas,\n",
    "    NavigationToolbar2QT as NavigationToolbar)\n",
    "from matplotlib.figure import Figure\n",
    "\n",
    "from PyQt5.uic import loadUiType\n",
    "\n",
    "\n",
    "qtCreatorFile = \"event_maps.ui\" # Enter file here.\n",
    "Ui_MainWindow, QMainWindow = loadUiType(qtCreatorFile)"
   ]
  },
  {
   "cell_type": "code",
   "execution_count": 12,
   "metadata": {
    "collapsed": false
   },
   "outputs": [],
   "source": [
    "class QtGui(QMainWindow, Ui_MainWindow):\n",
    "    def __init__(self, ):\n",
    "        super(QtGui, self).__init__()\n",
    "        self.setupUi(self)\n",
    "        \n",
    "        self.fig_dict = {}\n",
    "        self.mplfigs.itemClicked.connect(self.change_figure)\n",
    "\n",
    "        fig = Figure()\n",
    "        self.add_mpl(fig)\n",
    "\n",
    "    def add_figure(self, name, fig):\n",
    "        test_key = self.fig_dict.pop(name, None)\n",
    "        self.fig_dict[name] = fig\n",
    "        if not test_key: # key not in dict\n",
    "            self.mplfigs.addItem(name)\n",
    "\n",
    "    def change_figure(self, item):\n",
    "        text = item.text()\n",
    "        self.rm_mpl()\n",
    "        self.add_mpl(self.fig_dict[text])\n",
    "\n",
    "    def add_mpl(self, fig):\n",
    "        self.canvas = FigureCanvas(fig)\n",
    "        self.mplvl.addWidget(self.canvas)\n",
    "        self.canvas.draw()\n",
    "        self.toolbar = NavigationToolbar(self.canvas,\n",
    "                self.mplwindow, coordinates=True)\n",
    "        self.mplvl.addWidget(self.toolbar)\n",
    "\n",
    "    def rm_mpl(self,):\n",
    "        self.mplvl.removeWidget(self.canvas)\n",
    "        self.canvas.close()\n",
    "        self.mplvl.removeWidget(self.toolbar)\n",
    "        self.toolbar.close()\n",
    "\n"
   ]
  },
  {
   "cell_type": "code",
   "execution_count": 13,
   "metadata": {
    "collapsed": false
   },
   "outputs": [],
   "source": [
    "def scan_events(epm, gui, pmtrwf, sipmrwf, \n",
    "                event_list=list(range(1)), \n",
    "                event_plot_list=list(range(1)), \n",
    "                printout=10):\n",
    "    \"\"\"Loop over events\"\"\"\n",
    "    \n",
    "    for event in event_list:\n",
    "        if(event%printout == 0):\n",
    "            print('processing event number {}'.format(event))\n",
    "        epm.calibrated_pmt_and_csum(event, pmtrwf)\n",
    "        epm.calibrated_sipm(event, sipmrwf)\n",
    "        epm.find_s1()\n",
    "        epm.find_s2()\n",
    "        if (len(epm.S2) > 0):\n",
    "            epm.find_s2si()\n",
    "        \n",
    "        if event in event_plot_list:\n",
    "            #gui.add_figure('RWF-event-{}'.format(event), \n",
    "            #                plot_pmt_waveforms(epm.RWF, zoom=False, window_size=10000))\n",
    "            gui.add_figure('CWF_vs_time_mus-event-{}'.format(event), \n",
    "                            fplot_pmt_signals_vs_time_mus(epm.CWF,\n",
    "                                                         epm.P.pmt_active,\n",
    "                                                         t_min      =    0,\n",
    "                                                         t_max      = 1300,\n",
    "                                                         signal_min =    -5,\n",
    "                                                         signal_max =  200))\n",
    "            gui.add_figure('Calibrated_SUM-event-{}'.format(event), \n",
    "                            fplot_signal_vs_time_mus(epm.csum, t_min=0, t_max=1300, signal_min=-5, signal_max=100))\n",
    "            if (len(epm.S1) > 0):\n",
    "                gui.add_figure('S1-event-{}'.format(event), fplot_s12(epm.S1))\n",
    "            if (len(epm.S2) > 0):\n",
    "                gui.add_figure('S2-event-{}'.format(event), fplot_s12(epm.S2))\n",
    "                "
   ]
  },
  {
   "cell_type": "code",
   "execution_count": 14,
   "metadata": {
    "collapsed": false
   },
   "outputs": [],
   "source": [
    "RWF_file = os.path.join(os.environ['IC_DATA'],'LSC/wvfms/3389/dst_waves.gdcsnext.000_3389.root.h5')\n"
   ]
  },
  {
   "cell_type": "code",
   "execution_count": 15,
   "metadata": {
    "collapsed": false
   },
   "outputs": [],
   "source": [
    "h5rwf = tb.open_file(RWF_file,'r')"
   ]
  },
  {
   "cell_type": "code",
   "execution_count": 16,
   "metadata": {
    "collapsed": false
   },
   "outputs": [],
   "source": [
    "pmtrwf, pmtblr, sipmrwf = tbl.get_vectors(h5rwf)"
   ]
  },
  {
   "cell_type": "code",
   "execution_count": 17,
   "metadata": {
    "collapsed": false
   },
   "outputs": [
    {
     "name": "stdout",
     "output_type": "stream",
     "text": [
      "\n",
      "        Number of events in file = 163\n",
      "        Number of PMTs = 12\n",
      "        PMTWL = 52000\n",
      "        Number of SiPMs = 1792\n",
      "        SiPMWL = 1300\n",
      "      \n"
     ]
    }
   ],
   "source": [
    "NEVT, NPMT, PMTWL = pmtrwf.shape\n",
    "NEVT, NSIPM, SIPMWL = sipmrwf.shape\n",
    "print(\"\"\"\n",
    "        Number of events in file = {}\n",
    "        Number of PMTs = {}\n",
    "        PMTWL = {}\n",
    "        Number of SiPMs = {}\n",
    "        SiPMWL = {}\n",
    "      \"\"\".format(NEVT, NPMT, PMTWL,NSIPM, SIPMWL))"
   ]
  },
  {
   "cell_type": "code",
   "execution_count": 18,
   "metadata": {
    "collapsed": false
   },
   "outputs": [],
   "source": [
    "s1par  = S12Params(tmin=0*units.mus, tmax=640*units.mus, lmin=5, lmax=20, stride=4, rebin=False)\n",
    "s2par = S12Params(tmin=640*units.mus, tmax=800*units.mus, stride=40, lmin=80, lmax=20000, rebin=True)\n",
    "thr    = ThresholdParams(thr_s1=0.5 * units.pes,  thr_s2=1 *units.pes,\n",
    "                        thr_MAU = 3 * units.adc, thr_sipm = 3.5 * units.pes,\n",
    "                        thr_SIPM = 30 * units.adc)"
   ]
  },
  {
   "cell_type": "code",
   "execution_count": 19,
   "metadata": {
    "collapsed": false
   },
   "outputs": [],
   "source": [
    "gui=QtGui()\n",
    "gui.show()"
   ]
  },
  {
   "cell_type": "code",
   "execution_count": 20,
   "metadata": {
    "collapsed": true
   },
   "outputs": [],
   "source": [
    "epm = EventPmaps(run_number, s1par, s2par, thr, verbose=True)"
   ]
  },
  {
   "cell_type": "code",
   "execution_count": 21,
   "metadata": {
    "collapsed": false
   },
   "outputs": [
    {
     "data": {
      "text/plain": [
       "7477.3421116275758"
      ]
     },
     "execution_count": 21,
     "metadata": {},
     "output_type": "execute_result"
    }
   ],
   "source": [
    "event=0\n",
    "epm.calibrated_pmt_and_csum(event, pmtrwf)"
   ]
  },
  {
   "cell_type": "code",
   "execution_count": 22,
   "metadata": {
    "collapsed": false
   },
   "outputs": [],
   "source": [
    "gui.add_figure('CWF-event-{}'.format(event), \n",
    "                fplot_pmt_signals_vs_time_mus(epm.CWF,\n",
    "                                             epm.P.pmt_active,\n",
    "                                             t_min      =    0,\n",
    "                                             t_max      = 1300,\n",
    "                                             signal_min =    -5,\n",
    "                                             signal_max =  250))"
   ]
  },
  {
   "cell_type": "code",
   "execution_count": 23,
   "metadata": {
    "collapsed": false
   },
   "outputs": [],
   "source": [
    "gui.add_figure('PMTs-event-{}'.format(event), \n",
    "                fplot_pmt_signals_vs_time_mus(epm.CAL_PMT,\n",
    "                                             epm.P.pmt_active,\n",
    "                                             t_min      =    0,\n",
    "                                             t_max      = 1300,\n",
    "                                             signal_min =    -5,\n",
    "                                             signal_max =  10))"
   ]
  },
  {
   "cell_type": "code",
   "execution_count": null,
   "metadata": {
    "collapsed": false
   },
   "outputs": [
    {
     "name": "stdout",
     "output_type": "stream",
     "text": [
      "processing event number 0\n",
      "number of peaks = 1\n",
      "S12 number = 0, samples = 17 sum in pes =58.61823131191956\n",
      "time vector (mus) = [ 381.675  381.7    381.725  381.75   381.775  381.8    381.825  381.85\n",
      "  381.875  381.9    381.925  381.95   381.975  382.     382.075  382.1\n",
      "  382.125]\n",
      "energy vector (pes) = [ 1.61917637  4.26629217  7.76816226  9.1865877   8.86180842  7.24039865\n",
      "  5.02407006  3.78509372  2.95172416  1.79096222  1.56561245  1.40410572\n",
      "  0.902514    0.53159509  0.54448564  0.67117998  0.50446272]\n",
      "number of peaks = 1\n",
      "S12 number = 0, samples = 12 sum in pes =7002.0556670851765\n",
      "time vector (mus) = [ 648.611875    649.6875      650.6875      651.6875      652.6875\n",
      "  653.6875      654.6875      655.6875      656.6875      657.6875\n",
      "  658.6925      659.72142857]\n",
      "energy vector (pes) = [   92.34185897   305.01491887   609.24077745   986.05036791  1146.15608197\n",
      "  1197.89848084  1079.29428206   699.55456278   539.60781327   262.37786222\n",
      "    76.06448758     8.45417316]\n",
      "S2Si for peak number = 0\n",
      "sipm number = 980, energy = 50.006843604962235\n",
      "number of peaks = 1\n",
      "S12 number = 0, samples = 8 sum in pes =7.0429711491779035\n",
      "time vector (mus) = [ 486.325  486.35   486.375  486.4    486.425  486.45   486.475  486.5  ]\n",
      "energy vector (pes) = [ 1.00572392  1.42807619  1.39077321  0.71169641  0.55596226  0.58390724\n",
      "  0.71341985  0.65341206]\n",
      "number of peaks = 1\n",
      "S12 number = 0, samples = 10 sum in pes =4310.023342412648\n",
      "time vector (mus) = [ 648.969375  650.0125    651.0125    652.0125    653.0125    654.0125\n",
      "  655.0125    656.018125  657.175     658.4     ]\n",
      "energy vector (pes) = [   79.10731397   225.66393013   579.11896605   848.53140956  1040.56168527\n",
      "   821.1740507    424.45342996   209.32054645    78.80667266     3.28533765]\n",
      "S2Si for peak number = 0\n",
      "sipm number = 1677, energy = 43.34304790296307\n",
      "number of peaks = 1\n",
      "S12 number = 0, samples = 10 sum in pes =10.06058866579143\n",
      "time vector (mus) = [ 560.675  560.7    560.725  560.75   560.775  560.8    560.825  560.85\n",
      "  560.875  560.9  ]\n",
      "energy vector (pes) = [ 0.84893146  1.32635039  1.54025639  1.70296851  1.44951232  0.80352272\n",
      "  0.6222865   0.62544253  0.62955583  0.51176201]\n",
      "number of peaks = 1\n",
      "S12 number = 0, samples = 7 sum in pes =5998.549626354456\n",
      "time vector (mus) = [ 649.65125     650.6625      651.6625      652.6625      653.6625\n",
      "  654.6625      655.65428571]\n",
      "energy vector (pes) = [  155.58696218   567.92918747  1352.22258818  1844.07750461  1357.22038376\n",
      "   585.98580281   135.52719735]\n",
      "S2Si for peak number = 0\n",
      "sipm number = 386, energy = 33.281227160643894\n",
      "sipm number = 393, energy = 75.86132412207081\n",
      "sipm number = 394, energy = 48.77369537010665\n",
      "number of peaks = 1\n",
      "S12 number = 0, samples = 7 sum in pes =9.029172133120799\n",
      "time vector (mus) = [ 549.95   549.975  550.     550.025  550.05   550.075  550.1  ]\n",
      "energy vector (pes) = [ 0.79413851  1.59442488  2.14860128  1.88534027  1.22456531  0.69365962\n",
      "  0.68844227]\n",
      "number of peaks = 1\n",
      "S12 number = 0, samples = 7 sum in pes =5904.074327884989\n",
      "time vector (mus) = [ 649.68125    650.6875     651.6875     652.6875     653.6875     654.6875\n",
      "  655.7025641]\n",
      "energy vector (pes) = [  125.19195543   496.02481193  1302.19767758  1819.04647729  1458.41380528\n",
      "   552.0093494    151.19025097]\n",
      "S2Si for peak number = 0\n",
      "sipm number = 364, energy = 47.525253190910846\n",
      "sipm number = 365, energy = 31.08545417255708\n",
      "sipm number = 373, energy = 43.07832740242921\n",
      "number of peaks = 1\n",
      "S12 number = 0, samples = 6 sum in pes =8.57810779057384\n",
      "time vector (mus) = [ 526.45   526.475  526.5    526.525  526.55   526.575]\n",
      "energy vector (pes) = [ 0.97608253  1.25054792  2.0015297   1.97308892  1.36213136  1.01472736]\n",
      "number of peaks = 1\n",
      "S12 number = 0, samples = 9 sum in pes =6396.546483613141\n",
      "time vector (mus) = [ 649.175   650.1875  651.1875  652.1875  653.1875  654.1875  655.1875\n",
      "  656.1975  657.025 ]\n",
      "energy vector (pes) = [  102.61213846   355.35916069   973.41816035  1638.03791279  1760.12440897\n",
      "  1004.69782556   436.84906732   113.93539943    11.51241004]\n",
      "S2Si for peak number = 0\n",
      "sipm number = 1438, energy = 49.78261805346304\n",
      "sipm number = 1446, energy = 69.5017863036403\n",
      "sipm number = 1447, energy = 34.44073482145929\n",
      "number of peaks = 1\n",
      "S12 number = 0, samples = 10 sum in pes =9.487766359965406\n",
      "time vector (mus) = [ 492.125  492.15   492.175  492.2    492.225  492.25   492.35   492.375\n",
      "  492.4    492.425]\n",
      "energy vector (pes) = [ 0.95258665  1.27021607  1.3335397   1.1432868   0.88521082  0.9096625\n",
      "  0.61561285  0.88549707  0.83829167  0.65386224]\n",
      "number of peaks = 1\n",
      "S12 number = 0, samples = 9 sum in pes =4470.354191574498\n",
      "time vector (mus) = [ 648.59875     649.7125      650.7125      651.7125      652.7125\n",
      "  653.7125      654.7125      655.719375    656.80606061]\n",
      "energy vector (pes) = [   73.04784967   204.63763415   633.11921458  1006.91769553  1114.18964187\n",
      "   801.08934276   407.87403108   159.71401432    69.76476762]\n",
      "S2Si for peak number = 0\n",
      "sipm number = 359, energy = 48.6579536166313\n",
      "sipm number = 367, energy = 36.42228389646131\n",
      "number of peaks = 0\n",
      "number of peaks = 1\n",
      "S12 number = 0, samples = 7 sum in pes =6047.124932392124\n",
      "time vector (mus) = [ 649.53125     650.5375      651.5375      652.5375      653.5375\n",
      "  654.5375      655.61081081]\n",
      "energy vector (pes) = [  134.36454093   486.05798834  1497.61647422  1886.40026467  1305.3508432\n",
      "   605.61049263   131.72432839]\n",
      "S2Si for peak number = 0\n",
      "sipm number = 181, energy = 62.81202832926971\n",
      "sipm number = 182, energy = 72.21286054363019\n",
      "number of peaks = 8\n",
      "S12 number = 0, samples = 17 sum in pes =14.915590336405149\n",
      "time vector (mus) = [ 96.775  96.8    96.825  96.85   96.875  96.9    96.925  96.95   96.975\n",
      "  97.     97.025  97.125  97.15   97.175  97.2    97.225  97.25 ]\n",
      "energy vector (pes) = [ 0.50751947  0.61261017  0.73837632  0.83137948  0.8112955   0.74237599\n",
      "  0.94235793  0.97349761  0.87407116  0.75524413  0.59964877  0.69449718\n",
      "  1.00854803  1.75271333  1.45275785  1.06567981  0.55301762]\n",
      "S12 number = 1, samples = 5 sum in pes =5.657661146118829\n",
      "time vector (mus) = [ 106.225  106.25   106.275  106.3    106.325]\n",
      "energy vector (pes) = [ 0.9546064   1.13044544  1.81651486  0.89750391  0.85859054]\n",
      "S12 number = 2, samples = 7 sum in pes =6.974618247992281\n",
      "time vector (mus) = [ 106.625  106.65   106.675  106.7    106.8    106.825  106.85 ]\n",
      "energy vector (pes) = [ 0.86906419  1.6168313   1.52574326  0.52487397  0.60553311  0.87985688\n",
      "  0.95271553]\n",
      "S12 number = 3, samples = 8 sum in pes =5.407394785571949\n",
      "time vector (mus) = [ 107.95   107.975  108.     108.025  108.05   108.075  108.175  108.2  ]\n",
      "energy vector (pes) = [ 0.58900751  0.8950595   0.9614753   0.77779947  0.55456021  0.55090071\n",
      "  0.5615149   0.5170772 ]\n",
      "S12 number = 4, samples = 5 sum in pes =3.856444109361688\n",
      "time vector (mus) = [ 234.8    234.825  234.85   234.875  234.9  ]\n",
      "energy vector (pes) = [ 0.54960456  0.91655735  0.86554107  0.92417872  0.60056241]\n",
      "S12 number = 5, samples = 10 sum in pes =58.86589568905458\n",
      "time vector (mus) = [ 394.35   394.375  394.4    394.425  394.45   394.475  394.5    394.525\n",
      "  394.55   394.6  ]\n",
      "energy vector (pes) = [  2.45703722   5.85757102   9.342368    11.05999223  10.67623288\n",
      "   8.44481759   5.41453644   3.28510645   1.590703     0.73753087]\n",
      "S12 number = 6, samples = 5 sum in pes =3.930173243053303\n",
      "time vector (mus) = [ 558.425  558.45   558.475  558.575  558.6  ]\n",
      "energy vector (pes) = [ 0.74019619  0.93918708  0.87937384  0.72220172  0.64921441]\n",
      "S12 number = 7, samples = 6 sum in pes =3.8898738367150387\n",
      "time vector (mus) = [ 631.15   631.175  631.2    631.225  631.3    631.325]\n",
      "energy vector (pes) = [ 0.59130447  0.827293    0.68034496  0.54180555  0.69178215  0.55734369]\n",
      "number of peaks = 1\n",
      "S12 number = 0, samples = 12 sum in pes =7046.400410546955\n",
      "time vector (mus) = [ 648.06375     649.1125      650.1125      651.1125      652.1125\n",
      "  653.1125      654.1125      655.1125      656.1125      657.1125\n",
      "  658.291875    659.52307692]\n",
      "energy vector (pes) = [   79.41003679   179.62133995   393.6927468    809.12207707  1100.478997\n",
      "  1526.16635772  1050.54692223   948.38752351   556.96784811   300.262696\n",
      "    79.74665518    21.99721019]\n",
      "S2Si for peak number = 0\n",
      "sipm number = 603, energy = 44.75199530550084\n",
      "sipm number = 610, energy = 33.587344709456715\n",
      "sipm number = 611, energy = 54.13577180425996\n",
      "number of peaks = 1\n",
      "S12 number = 0, samples = 8 sum in pes =13.514516570259069\n",
      "time vector (mus) = [ 587.825  587.85   587.875  587.9    587.925  587.95   587.975  588.   ]\n",
      "energy vector (pes) = [ 0.8718545   1.99386409  2.83970663  2.95072889  2.32241482  1.52392851\n",
      "  0.50560587  0.50641326]\n",
      "number of peaks = 1\n",
      "S12 number = 0, samples = 7 sum in pes =8999.4304222288\n",
      "time vector (mus) = [ 649.399375    650.4125      651.4125      652.4125      653.4125\n",
      "  654.4125      655.38918919]\n",
      "energy vector (pes) = [  158.34397876   854.25207592  2253.44505926  2827.02284057  1910.63786311\n",
      "   817.69033859   178.03826601]\n",
      "S2Si for peak number = 0\n",
      "sipm number = 747, energy = 51.142747553234926\n",
      "sipm number = 754, energy = 48.00649568325407\n",
      "sipm number = 755, energy = 130.8406071512479\n",
      "sipm number = 763, energy = 50.37170681860108\n",
      "number of peaks = 1\n",
      "S12 number = 0, samples = 6 sum in pes =15.372053912140041\n",
      "time vector (mus) = [ 216.9    216.925  216.95   216.975  217.     217.025]\n",
      "energy vector (pes) = [ 1.45834054  3.11860104  4.02788655  3.61979037  2.2690211   0.87841431]\n",
      "number of peaks = 1\n",
      "S12 number = 0, samples = 7 sum in pes =7107.523864002991\n",
      "time vector (mus) = [ 649.4875      650.4875      651.4875      652.4875      653.4875\n",
      "  654.4875      655.53648649]\n",
      "energy vector (pes) = [  118.10303415   713.21562827  1802.25616752  2366.13634127  1440.10561228\n",
      "   547.5994401    120.10764042]\n",
      "S2Si for peak number = 0\n",
      "sipm number = 1474, energy = 30.564380115394755\n",
      "sipm number = 1481, energy = 47.615094077642524\n",
      "sipm number = 1482, energy = 97.25447741642074\n",
      "processing event number 10\n",
      "number of peaks = 1\n",
      "S12 number = 0, samples = 5 sum in pes =7.664277187691317\n",
      "time vector (mus) = [ 541.925  541.95   541.975  542.     542.025]\n",
      "energy vector (pes) = [ 0.79674009  1.49925866  2.16435314  2.16448901  1.03943629]\n",
      "number of peaks = 1\n",
      "S12 number = 0, samples = 8 sum in pes =6672.422212885738\n",
      "time vector (mus) = [ 649.8375      650.8375      651.8375      652.8375      653.8375\n",
      "  654.8375      655.8375      656.53214286]\n",
      "energy vector (pes) = [  169.30217915   540.87190269  1472.23057742  1784.95634036  1562.66016491\n",
      "   836.28730847   291.06140748    15.05233239]\n",
      "S2Si for peak number = 0\n",
      "sipm number = 436, energy = 34.70743480021323\n",
      "sipm number = 444, energy = 78.40963538943113\n",
      "sipm number = 445, energy = 64.0184537205717\n",
      "number of peaks = 0\n",
      "number of peaks = 1\n",
      "S12 number = 0, samples = 9 sum in pes =5021.739957150969\n",
      "time vector (mus) = [ 648.59625     649.8375      650.8375      651.8375      652.8375\n",
      "  653.8375      654.8375      655.8375      656.60441176]\n",
      "energy vector (pes) = [   72.67864841   278.86765883   727.08450952  1144.23453548  1226.70331008\n",
      "   882.57195224   502.58081149   156.95379026    30.06474085]\n",
      "S2Si for peak number = 0\n",
      "sipm number = 696, energy = 32.99966563059475\n",
      "sipm number = 1024, energy = 48.03745623843771\n",
      "number of peaks = 1\n",
      "S12 number = 0, samples = 6 sum in pes =13.322993521946465\n",
      "time vector (mus) = [ 574.775  574.8    574.825  574.85   574.875  574.9  ]\n",
      "energy vector (pes) = [ 1.41567488  2.55899734  3.11297587  2.88694293  2.00539996  1.34300255]\n",
      "number of peaks = 1\n",
      "S12 number = 0, samples = 8 sum in pes =7757.4749222496575\n",
      "time vector (mus) = [ 649.76125  650.7875   651.7875   652.7875   653.7875   654.7875   655.8375\n",
      "  656.675  ]\n",
      "energy vector (pes) = [  126.17584769   662.05505537  1952.3281696   2746.29315491  1694.33825057\n",
      "   473.42563299    82.66737495    20.19143617]\n",
      "S2Si for peak number = 0\n",
      "sipm number = 976, energy = 52.96172224200745\n",
      "sipm number = 1047, energy = 122.15262558647949\n",
      "sipm number = 1055, energy = 44.78973081712808\n",
      "number of peaks = 1\n",
      "S12 number = 0, samples = 9 sum in pes =10.739671139444159\n",
      "time vector (mus) = [ 527.95   527.975  528.     528.025  528.05   528.075  528.1    528.125\n",
      "  528.15 ]\n",
      "energy vector (pes) = [ 0.71024305  1.20780774  1.44061869  1.80298664  1.71394324  1.48264677\n",
      "  0.94598722  0.91079271  0.52464507]\n",
      "number of peaks = 1\n",
      "S12 number = 0, samples = 9 sum in pes =4448.562332617028\n",
      "time vector (mus) = [ 648.5575   649.7875   650.7875   651.7875   652.7875   653.7875   654.7875\n",
      "  655.83375  656.64   ]\n",
      "energy vector (pes) = [   78.98326689   273.17407957   648.50929316  1010.45010691  1081.08118973\n",
      "   839.81471587   375.91270883   116.8402183     23.79675335]\n",
      "S2Si for peak number = 0\n",
      "sipm number = 1750, energy = 57.34907790833224\n",
      "sipm number = 1751, energy = 43.44002839689841\n"
     ]
    }
   ],
   "source": [
    "n_events = 160\n",
    "sample_plot = 10\n",
    "t0 = time.time()\n",
    "scan_events(epm, gui, pmtrwf, sipmrwf, \n",
    "            event_list=list(range(n_events)), \n",
    "            event_plot_list=list(range(0,n_events,sample_plot)),\n",
    "           printout=10)\n",
    "t1 = time.time()        \n",
    "dt = t1 - t0\n",
    "print(\"run {} events in {} s event/s = {}\".format(n_events, dt, dt/n_events))"
   ]
  },
  {
   "cell_type": "code",
   "execution_count": null,
   "metadata": {
    "collapsed": true
   },
   "outputs": [],
   "source": []
  }
 ],
 "metadata": {
  "kernelspec": {
   "display_name": "Python 3",
   "language": "python",
   "name": "python3"
  },
  "language_info": {
   "codemirror_mode": {
    "name": "ipython",
    "version": 3
   },
   "file_extension": ".py",
   "mimetype": "text/x-python",
   "name": "python",
   "nbconvert_exporter": "python",
   "pygments_lexer": "ipython3",
   "version": "3.6.0"
  }
 },
 "nbformat": 4,
 "nbformat_minor": 2
}
