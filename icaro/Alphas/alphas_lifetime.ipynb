{
 "cells": [
  {
   "cell_type": "markdown",
   "metadata": {},
   "source": [
    "# Notebook configuration"
   ]
  },
  {
   "cell_type": "code",
   "execution_count": null,
   "metadata": {
    "collapsed": true
   },
   "outputs": [],
   "source": [
    "run_number    = 4074\n",
    "data_filename = \"/Users/Gonzalo/github/NEXTdata/Alphas/dst_{}.root.h5\".format(run_number)\n",
    "text_filename = \"/Users/Gonzalo/github/NEXTdata/Alphas/Lifetimes.txt\"\n",
    "run_comment   = \"\""
   ]
  },
  {
   "cell_type": "markdown",
   "metadata": {},
   "source": [
    "# Alpha lifetime"
   ]
  },
  {
   "cell_type": "code",
   "execution_count": null,
   "metadata": {
    "collapsed": false
   },
   "outputs": [],
   "source": [
    "import datetime\n",
    "print(datetime.datetime.now().strftime('%Y-%m-%d %H:%M:%S'))\n",
    "\n",
    "import numpy as np\n",
    "import matplotlib.pyplot as plt\n",
    "\n",
    "import invisible_cities.core.core_functions as coref\n",
    "import invisible_cities.reco. dst_functions as dstf\n",
    "\n",
    "from icaro.core.kdst_functions import event_rate\n",
    "from icaro.core.kdst_functions import profile_and_fit\n",
    "from icaro.core.kdst_functions import time_from_timestamp\n",
    "from icaro.core.kdst_functions import to_deltatime\n",
    "from icaro.core.kdst_functions import lifetime_vs_t\n",
    "from icaro.core.kdst_functions import save_lifetime"
   ]
  },
  {
   "cell_type": "code",
   "execution_count": null,
   "metadata": {
    "collapsed": false
   },
   "outputs": [],
   "source": [
    "%matplotlib inline\n",
    "%load_ext autoreload\n",
    "%autoreload 2\n",
    "\n",
    "plt.rcParams[\"figure.figsize\"] = 10, 8\n",
    "plt.rcParams[\"font.size\"     ] = 14"
   ]
  },
  {
   "cell_type": "markdown",
   "metadata": {},
   "source": [
    "# Read data"
   ]
  },
  {
   "cell_type": "code",
   "execution_count": null,
   "metadata": {
    "collapsed": false
   },
   "outputs": [],
   "source": [
    "full       = dstf.load_dst(data_filename, \"DST\", \"Events\")\n",
    "t_begin    = np.min(full.time)\n",
    "t_end      = np.max(full.time)\n",
    "run_dt     = t_end - t_begin\n",
    "full.time -= t_begin\n",
    "fid        = full[full.R < 100] # michel sorel cuts\n",
    "cath       = full[full.Z > 500]\n",
    "bulk       = full[full.Z < 500]\n",
    "\n",
    "print(\"# alphas              :\", len(full))\n",
    "print(\"# alphas at R < 100 mm:\", len(fid ))\n",
    "print(\"# alphas at Z > 500 µs:\", len(cath))\n",
    "print(\"# alphas at Z < 500 µs:\", len(bulk))\n",
    "\n",
    "full.head()"
   ]
  },
  {
   "cell_type": "markdown",
   "metadata": {},
   "source": [
    "# Trigger rate"
   ]
  },
  {
   "cell_type": "code",
   "execution_count": null,
   "metadata": {
    "collapsed": false
   },
   "outputs": [],
   "source": [
    "n, bins, _ = \\\n",
    "plt.hist  (full.time/60, 40)\n",
    "plt.xlabel(\"Time (min)\")\n",
    "plt.ylabel(\"Rate (({:.1f} min)$^{{-1}}$)\".format(np.diff(bins)[0]))\n",
    "plt.title (\"Trigger rate\")\n",
    "\n",
    "rate = event_rate(full)\n",
    "print(\"Average trigger rate: {:.2f} evts/s\".format(rate))"
   ]
  },
  {
   "cell_type": "markdown",
   "metadata": {},
   "source": [
    "# Energy distributions and correlations"
   ]
  },
  {
   "cell_type": "code",
   "execution_count": null,
   "metadata": {
    "collapsed": false,
    "scrolled": false
   },
   "outputs": [],
   "source": [
    "plt.figure (figsize=(12, 8))\n",
    "plt.subplot(2, 3, 1)\n",
    "plt.hist   (full.S1e, 50, (0, np.max(full.S1e)))\n",
    "plt.xlabel (\"S1 energy (pes)\")\n",
    "plt.ylabel (\"Entries\")\n",
    "plt.title  ('S1 energy')\n",
    "\n",
    "plt.subplot(2, 3, 2)\n",
    "plt.hist   (full.S2e, 50, (0, np.max(full.S2e) * 1.2))\n",
    "plt.xlabel (\"S2 energy (pes)\")\n",
    "plt.ylabel (\"Entries\")\n",
    "plt.title  ('S2 energy')\n",
    "\n",
    "plt.subplot(2, 3, 3)\n",
    "plt.hist   (fid.S2e, 50, (0, np.max(full.S2e) * 1.2))\n",
    "plt.xlabel (\"S2 energy (pes)\")\n",
    "plt.ylabel (\"Entries\")\n",
    "plt.title  ('S2 energy (R < 100 mm)')\n",
    "\n",
    "plt.subplot(2, 3, 4)\n",
    "plt.hist   (full.Z, 25, (0, 600))\n",
    "plt.xlabel (\"Drift time ($\\mu$s)\")\n",
    "plt.ylabel (\"Entries\")\n",
    "plt.title  ('Drift time')\n",
    "\n",
    "plt.subplot(2, 3, 5)\n",
    "plt.hist   (fid.Z, 25, (500, 600))\n",
    "plt.xlabel (\"Drift time ($\\mu$s)\")\n",
    "plt.ylabel (\"Entries\")\n",
    "plt.title  ('Drift time (cathode)')\n",
    "\n",
    "plt.subplot(2, 3, 6)\n",
    "plt.hist   (fid.Z, 25, (0, 500))\n",
    "plt.xlabel (\"Drift time ($\\mu$s)\")\n",
    "plt.ylabel (\"Entries\")\n",
    "plt.title  ('Drift time (bulk)')\n",
    "\n",
    "plt.tight_layout()"
   ]
  },
  {
   "cell_type": "code",
   "execution_count": null,
   "metadata": {
    "collapsed": false
   },
   "outputs": [],
   "source": [
    "plt.hist2d(full.time, full.S2e, (25, 25))\n",
    "plt.xlabel(\"Time (s)\")\n",
    "plt.ylabel(\"Energy (pes)\")\n",
    "plt.title (\"Energy vs time\");"
   ]
  },
  {
   "cell_type": "code",
   "execution_count": null,
   "metadata": {
    "collapsed": false
   },
   "outputs": [],
   "source": [
    "plt.figure(figsize=(12, 8))\n",
    "zrange  = 0, 610\n",
    "S2range = 0, 4e4\n",
    "S1range = 0, 3e3\n",
    "\n",
    "plt.subplot(2, 3, 1)\n",
    "plt.hist2d (full.Z, full.S2e, (25, 25), range=(zrange, S2range))\n",
    "plt.xlabel (\"Drift time ($\\mu$s)\")\n",
    "plt.ylabel (\"S2 energy (pes)\")\n",
    "plt.title  ('S2 vs Z')\n",
    "\n",
    "plt.subplot(2, 3, 2)\n",
    "plt.hist2d (full.Z, full.S1e, (25, 25), range=(zrange, S1range))\n",
    "plt.xlabel (\"Drift time ($\\mu$s)\")\n",
    "plt.ylabel (\"S1 energy (pes)\")\n",
    "plt.title  ('S1 vs Z')\n",
    "\n",
    "plt.subplot(2, 3, 3)\n",
    "plt.hist2d (full.S2e, full.S1e, (25, 25), range=(S2range, S1range))\n",
    "plt.xlabel (\"S2 energy (pes)\")\n",
    "plt.ylabel (\"S1 energy (pes)\")\n",
    "plt.title  ('S1 vs S2')\n",
    "\n",
    "plt.subplot(2, 3, 4)\n",
    "plt.hist2d (fid.Z, fid.S2e, (25, 25), range=(zrange, S2range))\n",
    "plt.xlabel (\"Drift time ($\\mu$s)\")\n",
    "plt.ylabel (\"S2 energy (pes)\")\n",
    "plt.title  ('S2 vs Z (R < 100 mm)')\n",
    "\n",
    "plt.subplot(2, 3, 5)\n",
    "plt.hist2d (fid.Z, fid.S1e, (25, 25), range=(zrange, S1range))\n",
    "plt.xlabel (\"Drift time ($\\mu$s)\")\n",
    "plt.ylabel (\"S1 energy (pes)\")\n",
    "plt.title  ('S1 vs Z (R < 100 mm)')\n",
    "\n",
    "plt.subplot(2, 3, 6)\n",
    "plt.hist2d (fid.S2e, fid.S1e, (25, 25), range=(S2range, S1range))\n",
    "plt.xlabel (\"S2 energy (pes)\")\n",
    "plt.ylabel (\"S1 energy (pes)\")\n",
    "plt.title  ('S1 vs S2 (R < 100 mm)')\n",
    "\n",
    "plt.tight_layout()"
   ]
  },
  {
   "cell_type": "markdown",
   "metadata": {},
   "source": [
    "# Event distribution"
   ]
  },
  {
   "cell_type": "code",
   "execution_count": null,
   "metadata": {
    "collapsed": false
   },
   "outputs": [],
   "source": [
    "xrange  = -215, 215\n",
    "yrange  = -215, 215\n",
    "xyrange = xrange, yrange\n",
    "xybins  = 50, 50\n",
    "\n",
    "plt.figure (figsize=(12,10))\n",
    "plt.subplot(2, 2, 1)\n",
    "plt.hist2d (full.X, full.Y, xybins, xyrange)\n",
    "plt.xlabel (\"X (mm)\")\n",
    "plt.ylabel (\"Y (mm)\")\n",
    "plt.title  ('XY distribution')\n",
    "\n",
    "plt.subplot(2, 2, 2)\n",
    "plt.hist2d (fid.X, fid.Y, xybins, xyrange)\n",
    "plt.xlabel (\"X (mm)\")\n",
    "plt.ylabel (\"Y (mm)\")\n",
    "plt.title  ('XY distribution (R < 100 mm)')\n",
    "\n",
    "plt.subplot(2, 2, 3)\n",
    "plt.hist2d (bulk.X, bulk.Y, xybins, xyrange)\n",
    "plt.xlabel (\"X (mm)\")\n",
    "plt.ylabel (\"Y (mm)\")\n",
    "plt.title  ('XY distribution (bulk)')\n",
    "\n",
    "plt.subplot(2, 2, 4)\n",
    "plt.hist2d (cath.X, cath.Y, xybins, xyrange)\n",
    "plt.xlabel (\"X (mm)\")\n",
    "plt.ylabel (\"Y (mm)\")\n",
    "plt.title  ('XY distribution (cathode)')\n",
    "\n",
    "plt.tight_layout()"
   ]
  },
  {
   "cell_type": "markdown",
   "metadata": {},
   "source": [
    "# Lifetime"
   ]
  },
  {
   "cell_type": "code",
   "execution_count": null,
   "metadata": {
    "collapsed": false
   },
   "outputs": [],
   "source": [
    "zrange =  50, 400\n",
    "Erange = 1e4, 7e4\n",
    "nbins  =  50\n",
    "seed   = Erange[1], zrange[1]/np.log(Erange[0]/Erange[1])\n",
    "\n",
    "F, x, y, sy = profile_and_fit(fid.Z, fid.S2e, \n",
    "                              xrange = zrange, \n",
    "                              yrange = Erange, \n",
    "                              nbins  = nbins, \n",
    "                              fitpar = seed,\n",
    "                              label  = (\"Drift time ($\\mu$s)\", \"S2 energy (pes)\"))\n",
    "\n",
    "print(\"Energy at Z=0: {:.0f} +- {:.0f} pes\".format( F.values[0], F.errors[0]))\n",
    "print(\"Lifetime     : {:.1f} +- {:.1f} µs \".format(-F.values[1], F.errors[1]))\n",
    "print(\"Chi2 fit     : {:.2f}              \".format( F.chi2))\n",
    "LT, LTu = -F.values[1], F.errors[1]"
   ]
  },
  {
   "cell_type": "code",
   "execution_count": null,
   "metadata": {
    "collapsed": false
   },
   "outputs": [],
   "source": [
    "dst        = fid[coref.in_range(fid.Z, *zrange)]\n",
    "timestamps = list(map(time_from_timestamp, dst.time))\n",
    "\n",
    "lifetime_vs_t(dst, nslices=8, timestamps=timestamps)\n",
    "plt.xlabel   (\"Time (s)\")\n",
    "plt.ylabel   (\"Lifetime (µs)\")\n",
    "plt.title    (\"Lifetime evolution within run\");"
   ]
  },
  {
   "cell_type": "code",
   "execution_count": null,
   "metadata": {
    "collapsed": false
   },
   "outputs": [],
   "source": [
    "date_begin = time_from_timestamp(t_begin)\n",
    "date_end   = time_from_timestamp(t_end  )\n",
    "date_lapse = to_deltatime       (t_begin, t_end, unit=\"s\", to_str=True)\n",
    "\n",
    "save_lifetime(text_filename,\n",
    "                 run_number,       LT,        LTu,\n",
    "                    t_begin,    t_end,     run_dt,\n",
    "                 date_begin, date_end, date_lapse,\n",
    "              comment = run_comment.replace(\" \", \"_\"),\n",
    "              delimiter=\" \")"
   ]
  }
 ],
 "metadata": {
  "kernelspec": {
   "display_name": "Python 3",
   "language": "python",
   "name": "python3"
  },
  "language_info": {
   "codemirror_mode": {
    "name": "ipython",
    "version": 3
   },
   "file_extension": ".py",
   "mimetype": "text/x-python",
   "name": "python",
   "nbconvert_exporter": "python",
   "pygments_lexer": "ipython3",
   "version": "3.5.2"
  }
 },
 "nbformat": 4,
 "nbformat_minor": 2
}
