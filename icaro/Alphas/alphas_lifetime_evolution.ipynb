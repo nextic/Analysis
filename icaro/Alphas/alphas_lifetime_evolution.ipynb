{
 "cells": [
  {
   "cell_type": "markdown",
   "metadata": {},
   "source": [
    "# Alpha lifetime"
   ]
  },
  {
   "cell_type": "markdown",
   "metadata": {},
   "source": [
    "**Combine measurements of lifetimes to show its evolution.**"
   ]
  },
  {
   "cell_type": "code",
   "execution_count": null,
   "metadata": {
    "collapsed": true
   },
   "outputs": [],
   "source": [
    "import time\n",
    "import datetime\n",
    "import glob\n",
    "import collections\n",
    "print(datetime.datetime.now().strftime('%Y-%m-%d %H:%M:%S'))\n",
    "\n",
    "import numpy as np\n",
    "import tables as tb\n",
    "import matplotlib.pyplot as plt\n",
    "\n",
    "import invisible_cities.core.core_functions as coref\n",
    "\n",
    "from icaro.core.kdst_functions import event_rate\n",
    "from icaro.core.kdst_functions import profile_and_fit\n",
    "from icaro.core.kdst_functions import lifetime\n",
    "from icaro.core.kdst_functions import load_lifetimes\n",
    "from icaro.core.kdst_functions import str_to_datetime\n",
    "from icaro.core.kdst_functions import datetime_to_str\n",
    "from icaro.core.kdst_functions import to_deltatime"
   ]
  },
  {
   "cell_type": "code",
   "execution_count": null,
   "metadata": {
    "collapsed": true
   },
   "outputs": [],
   "source": [
    "%matplotlib inline\n",
    "%load_ext autoreload\n",
    "%autoreload 2"
   ]
  },
  {
   "cell_type": "code",
   "execution_count": null,
   "metadata": {
    "collapsed": true
   },
   "outputs": [],
   "source": [
    "plt.rcParams[\"figure.figsize\"] = 15, 8\n",
    "plt.rcParams[\"font.size\"] = 15"
   ]
  },
  {
   "cell_type": "markdown",
   "metadata": {},
   "source": [
    "# Configuration"
   ]
  },
  {
   "cell_type": "code",
   "execution_count": null,
   "metadata": {
    "collapsed": true
   },
   "outputs": [],
   "source": [
    "filename  = \"Lifetimes.txt\"\n",
    "min_run   = 0\n",
    "max_run   = 100000\n",
    "min_date  = datetime.datetime.strptime(\"2017-05-16-00:00:00\", \"%Y-%m-%d-%H:%M:%S\")\n",
    "max_date  = datetime.datetime.strptime(\"2116-12-31-23:59:59\", \"%Y-%m-%d-%H:%M:%S\")"
   ]
  },
  {
   "cell_type": "code",
   "execution_count": null,
   "metadata": {
    "collapsed": true
   },
   "outputs": [],
   "source": [
    "lifetimes = load_lifetimes(filename)\n",
    "lifetimes = lifetimes[coref.in_range(lifetimes.Run, min_run, max_run+1)]\n",
    "lifetimes = lifetimes[coref.in_range(np.array(list(map(str_to_datetime, lifetimes.Date_start.values))),\n",
    "                                     min_date, max_date)]"
   ]
  },
  {
   "cell_type": "markdown",
   "metadata": {},
   "source": [
    "### Remarkable Changes in Gas System"
   ]
  },
  {
   "cell_type": "code",
   "execution_count": null,
   "metadata": {
    "collapsed": true
   },
   "outputs": [],
   "source": [
    "# Getter configuration changes:\n",
    "\n",
    "c1 = datetime.datetime.strptime('2017-05-17 00:00:0', '%Y-%m-%d %H:%M:%S')  #from no circulation to almost no circulation\n",
    "c2 = datetime.datetime.strptime('2017-05-18 17:05:0', '%Y-%m-%d %H:%M:%S')  #from almost no circulation to both cold getters\n",
    "c3 = datetime.datetime.strptime('2017-05-19 14:00:0', '%Y-%m-%d %H:%M:%S')  #from both cold getters to only new one\n",
    "c4 = datetime.datetime.strptime('2017-05-22 19:00:0', '%Y-%m-%d %H:%M:%S')  #from new cold getter to both new cold and old one\n",
    "\n",
    "changes = [c1, c2, c3, c4]\n"
   ]
  },
  {
   "cell_type": "markdown",
   "metadata": {},
   "source": [
    "# Lifetime evolution"
   ]
  },
  {
   "cell_type": "code",
   "execution_count": null,
   "metadata": {
    "collapsed": true
   },
   "outputs": [],
   "source": [
    "plt.figure(figsize=(20,5))\n",
    "\n",
    "date0 = list(map(str_to_datetime, lifetimes.Date_start.values))\n",
    "date1 = list(map(str_to_datetime, lifetimes.Date_end  .values))\n",
    "ddate = list(map(lambda x,y: (x-y)*0.5, date1, date0)) #move dates to mean run time\n",
    "datec = list(map(lambda x,y: (x+y)    , date0, ddate))\n",
    "\n",
    "plt.errorbar(datec, lifetimes.LT, lifetimes.LTu, ddate, linestyle='--', fmt='o', c='blue')\n",
    "plt.grid(True)\n",
    "plt.ylabel('Lifetime ($\\mu$s)')\n",
    "\n",
    "for ci  in changes:\n",
    "    plt.axvline(x=ci, color='k', linewidth=3)\n",
    "\n",
    "# Labels in plot\n",
    "auxd = str_to_datetime('2017-05-16 15:30:0', '%Y-%m-%d %H:%M:%S')\n",
    "plt.text(auxd, 600, 'No circulation', fontsize=20, rotation='vertical')\n",
    "\n",
    "auxd = str_to_datetime('2017-05-17 02:30:0', '%Y-%m-%d %H:%M:%S')\n",
    "plt.text(auxd, 650, 'Mostly no circulation', fontsize=15, rotation='horizontal')\n",
    "\n",
    "auxd = str_to_datetime('2017-05-18 19:00:0', '%Y-%m-%d %H:%M:%S')\n",
    "plt.text(auxd, 650, 'Both colds', fontsize=15, rotation='horizontal')\n",
    "\n",
    "auxd = str_to_datetime('2017-05-20 12:00:0', '%Y-%m-%d %H:%M:%S')\n",
    "plt.text(auxd, 350, 'New cold getter', fontsize=22, rotation='horizontal')\n",
    "\n",
    "auxd = str_to_datetime('2017-05-23 12:00:0', '%Y-%m-%d %H:%M:%S')\n",
    "plt.text(auxd, 505, 'New cold getter \\n and hot getter', fontsize=20, rotation='horizontal');\n"
   ]
  }
 ],
 "metadata": {
  "kernelspec": {
   "display_name": "Python 3",
   "language": "python",
   "name": "python3"
  },
  "language_info": {
   "codemirror_mode": {
    "name": "ipython",
    "version": 3
   },
   "file_extension": ".py",
   "mimetype": "text/x-python",
   "name": "python",
   "nbconvert_exporter": "python",
   "pygments_lexer": "ipython3",
   "version": "3.5.3"
  }
 },
 "nbformat": 4,
 "nbformat_minor": 2
}
