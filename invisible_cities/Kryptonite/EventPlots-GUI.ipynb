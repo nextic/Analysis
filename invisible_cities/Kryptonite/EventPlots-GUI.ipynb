{
 "cells": [
  {
   "cell_type": "markdown",
   "metadata": {},
   "source": [
    "# EVENT PLOTS (GUI version)"
   ]
  },
  {
   "cell_type": "markdown",
   "metadata": {},
   "source": [
    "A NB template to produce event plots (GUI version)"
   ]
  },
  {
   "cell_type": "code",
   "execution_count": null,
   "metadata": {
    "collapsed": false
   },
   "outputs": [],
   "source": [
    "import datetime\n",
    "print(datetime.datetime.now().strftime('%Y-%m-%d %H:%M:%S'))"
   ]
  },
  {
   "cell_type": "code",
   "execution_count": null,
   "metadata": {
    "collapsed": false
   },
   "outputs": [],
   "source": [
    "%gui qt\n",
    "%load_ext autoreload\n",
    "%autoreload 2"
   ]
  },
  {
   "cell_type": "code",
   "execution_count": null,
   "metadata": {
    "collapsed": false
   },
   "outputs": [],
   "source": [
    "import sys\n",
    "import os\n",
    "import time\n",
    "import tables as tb\n",
    "import numpy as np"
   ]
  },
  {
   "cell_type": "code",
   "execution_count": null,
   "metadata": {
    "collapsed": false
   },
   "outputs": [],
   "source": [
    "from invisible_cities.database import load_db"
   ]
  },
  {
   "cell_type": "code",
   "execution_count": null,
   "metadata": {
    "collapsed": false
   },
   "outputs": [],
   "source": [
    "import invisible_cities.reco.tbl_functions as tbl\n",
    "import invisible_cities.reco.wfm_functions as wfm\n",
    "import invisible_cities.sierpe.blr as blr\n",
    "import invisible_cities.reco.peak_functions_c as cpf\n",
    "from invisible_cities.core.mpl_functions import set_plot_labels\n",
    "from invisible_cities.reco.params import S12Params, ThresholdParams\n",
    "from   invisible_cities.core.system_of_units_c import units"
   ]
  },
  {
   "cell_type": "code",
   "execution_count": null,
   "metadata": {
    "collapsed": false
   },
   "outputs": [],
   "source": [
    "from gui_functions import fplot_pmt_waveforms, fplot_pmt_signals_vs_time_mus, fplot_signal_vs_time_mus,\\\n",
    "                           fplot_s12, hist_1d"
   ]
  },
  {
   "cell_type": "code",
   "execution_count": null,
   "metadata": {
    "collapsed": false
   },
   "outputs": [],
   "source": [
    "from event_pmaps import EventPmaps, print_s12, print_s2si"
   ]
  },
  {
   "cell_type": "code",
   "execution_count": null,
   "metadata": {
    "collapsed": false
   },
   "outputs": [],
   "source": [
    "run_number = 3389"
   ]
  },
  {
   "cell_type": "code",
   "execution_count": null,
   "metadata": {
    "collapsed": false
   },
   "outputs": [],
   "source": [
    "DataPMT = load_db.DataPMT(run_number)"
   ]
  },
  {
   "cell_type": "code",
   "execution_count": null,
   "metadata": {
    "collapsed": false
   },
   "outputs": [],
   "source": [
    "DataPMT"
   ]
  },
  {
   "cell_type": "code",
   "execution_count": null,
   "metadata": {
    "collapsed": false
   },
   "outputs": [],
   "source": [
    "from PyQt5 import QtCore, QtWidgets, uic\n",
    "from matplotlib.backends.backend_qt5agg import (\n",
    "    FigureCanvasQTAgg as FigureCanvas,\n",
    "    NavigationToolbar2QT as NavigationToolbar)\n",
    "from matplotlib.figure import Figure\n",
    "\n",
    "from PyQt5.uic import loadUiType\n",
    "\n",
    "\n",
    "qtCreatorFile = \"event_maps.ui\" # Enter file here.\n",
    "Ui_MainWindow, QMainWindow = loadUiType(qtCreatorFile)"
   ]
  },
  {
   "cell_type": "code",
   "execution_count": null,
   "metadata": {
    "collapsed": false
   },
   "outputs": [],
   "source": [
    "class QtGui(QMainWindow, Ui_MainWindow):\n",
    "    def __init__(self, ):\n",
    "        super(QtGui, self).__init__()\n",
    "        self.setupUi(self)\n",
    "        \n",
    "        self.fig_dict = {}\n",
    "        self.mplfigs.itemClicked.connect(self.change_figure)\n",
    "\n",
    "        fig = Figure()\n",
    "        self.add_mpl(fig)\n",
    "\n",
    "    def add_figure(self, name, fig):\n",
    "        test_key = self.fig_dict.pop(name, None)\n",
    "        self.fig_dict[name] = fig\n",
    "        if not test_key: # key not in dict\n",
    "            self.mplfigs.addItem(name)\n",
    "\n",
    "    def change_figure(self, item):\n",
    "        text = item.text()\n",
    "        self.rm_mpl()\n",
    "        self.add_mpl(self.fig_dict[text])\n",
    "\n",
    "    def add_mpl(self, fig):\n",
    "        self.canvas = FigureCanvas(fig)\n",
    "        self.mplvl.addWidget(self.canvas)\n",
    "        self.canvas.draw()\n",
    "        self.toolbar = NavigationToolbar(self.canvas,\n",
    "                self.mplwindow, coordinates=True)\n",
    "        self.mplvl.addWidget(self.toolbar)\n",
    "\n",
    "    def rm_mpl(self,):\n",
    "        self.mplvl.removeWidget(self.canvas)\n",
    "        self.canvas.close()\n",
    "        self.mplvl.removeWidget(self.toolbar)\n",
    "        self.toolbar.close()\n",
    "\n"
   ]
  },
  {
   "cell_type": "code",
   "execution_count": null,
   "metadata": {
    "collapsed": false
   },
   "outputs": [],
   "source": [
    "def scan_events(epm, gui, pmtrwf, sipmrwf, \n",
    "                event_list=list(range(1)), \n",
    "                event_plot_list=list(range(1)), \n",
    "                printout=10):\n",
    "    \"\"\"Loop over events\"\"\"\n",
    "    \n",
    "    for event in event_list:\n",
    "        if(event%printout == 0):\n",
    "            print('processing event number {}'.format(event))\n",
    "        epm.calibrated_pmt_and_csum(event, pmtrwf)\n",
    "        epm.calibrated_sipm(event, sipmrwf)\n",
    "        epm.find_s1()\n",
    "        epm.find_s2()\n",
    "        if (len(epm.S2) > 0):\n",
    "            epm.find_s2si()\n",
    "        \n",
    "        if event in event_plot_list:\n",
    "            #gui.add_figure('RWF-event-{}'.format(event), \n",
    "            #                plot_pmt_waveforms(epm.RWF, zoom=False, window_size=10000))\n",
    "            gui.add_figure('CWF_vs_time_mus-event-{}'.format(event), \n",
    "                            fplot_pmt_signals_vs_time_mus(epm.CWF,\n",
    "                                                         epm.P.pmt_active,\n",
    "                                                         t_min      =    0,\n",
    "                                                         t_max      = 1300,\n",
    "                                                         signal_min =    -5,\n",
    "                                                         signal_max =  200))\n",
    "            gui.add_figure('Calibrated_SUM-event-{}'.format(event), \n",
    "                            fplot_signal_vs_time_mus(epm.csum, t_min=0, t_max=1300, signal_min=-5, signal_max=100))\n",
    "            if (len(epm.S1) > 0):\n",
    "                gui.add_figure('S1-event-{}'.format(event), fplot_s12(epm.S1))\n",
    "            if (len(epm.S2) > 0):\n",
    "                gui.add_figure('S2-event-{}'.format(event), fplot_s12(epm.S2))\n",
    "                "
   ]
  },
  {
   "cell_type": "code",
   "execution_count": null,
   "metadata": {
    "collapsed": false
   },
   "outputs": [],
   "source": [
    "RWF_file = os.path.join(os.environ['IC_DATA'],'LSC/wvfms/3389/dst_waves.gdcsnext.000_3389.root.h5')\n"
   ]
  },
  {
   "cell_type": "code",
   "execution_count": null,
   "metadata": {
    "collapsed": false
   },
   "outputs": [],
   "source": [
    "h5rwf = tb.open_file(RWF_file,'r')"
   ]
  },
  {
   "cell_type": "code",
   "execution_count": null,
   "metadata": {
    "collapsed": false
   },
   "outputs": [],
   "source": [
    "pmtrwf, pmtblr, sipmrwf = tbl.get_vectors(h5rwf)"
   ]
  },
  {
   "cell_type": "code",
   "execution_count": null,
   "metadata": {
    "collapsed": false
   },
   "outputs": [],
   "source": [
    "NEVT, NPMT, PMTWL = pmtrwf.shape\n",
    "NEVT, NSIPM, SIPMWL = sipmrwf.shape\n",
    "print(\"\"\"\n",
    "        Number of events in file = {}\n",
    "        Number of PMTs = {}\n",
    "        PMTWL = {}\n",
    "        Number of SiPMs = {}\n",
    "        SiPMWL = {}\n",
    "      \"\"\".format(NEVT, NPMT, PMTWL,NSIPM, SIPMWL))"
   ]
  },
  {
   "cell_type": "code",
   "execution_count": null,
   "metadata": {
    "collapsed": false
   },
   "outputs": [],
   "source": [
    "s1par  = S12Params(tmin=0*units.mus, tmax=640*units.mus, lmin=5, lmax=20, stride=4, rebin=False)\n",
    "s2par = S12Params(tmin=640*units.mus, tmax=800*units.mus, stride=40, lmin=80, lmax=20000, rebin=True)\n",
    "thr    = ThresholdParams(thr_s1=0.5 * units.pes,  thr_s2=1 *units.pes,\n",
    "                        thr_MAU = 3 * units.adc, thr_sipm = 3.5 * units.pes,\n",
    "                        thr_SIPM = 30 * units.adc)"
   ]
  },
  {
   "cell_type": "code",
   "execution_count": null,
   "metadata": {
    "collapsed": false
   },
   "outputs": [],
   "source": [
    "gui=QtGui()\n",
    "gui.show()"
   ]
  },
  {
   "cell_type": "code",
   "execution_count": null,
   "metadata": {
    "collapsed": true
   },
   "outputs": [],
   "source": [
    "epm = EventPmaps(run_number, s1par, s2par, thr, verbose=True)"
   ]
  },
  {
   "cell_type": "code",
   "execution_count": null,
   "metadata": {
    "collapsed": false
   },
   "outputs": [],
   "source": [
    "event=0\n",
    "epm.calibrated_pmt_and_csum(event, pmtrwf)"
   ]
  },
  {
   "cell_type": "code",
   "execution_count": null,
   "metadata": {
    "collapsed": false
   },
   "outputs": [],
   "source": [
    "gui.add_figure('CWF-event-{}'.format(event), \n",
    "                fplot_pmt_signals_vs_time_mus(epm.CWF,\n",
    "                                             epm.P.pmt_active,\n",
    "                                             t_min      =    0,\n",
    "                                             t_max      = 1300,\n",
    "                                             signal_min =    -5,\n",
    "                                             signal_max =  250))"
   ]
  },
  {
   "cell_type": "code",
   "execution_count": null,
   "metadata": {
    "collapsed": false
   },
   "outputs": [],
   "source": [
    "gui.add_figure('PMTs-event-{}'.format(event), \n",
    "                fplot_pmt_signals_vs_time_mus(epm.CAL_PMT,\n",
    "                                             epm.P.pmt_active,\n",
    "                                             t_min      =    0,\n",
    "                                             t_max      = 1300,\n",
    "                                             signal_min =    -5,\n",
    "                                             signal_max =  10))"
   ]
  },
  {
   "cell_type": "code",
   "execution_count": null,
   "metadata": {
    "collapsed": false
   },
   "outputs": [],
   "source": [
    "n_events = 160\n",
    "sample_plot = 10\n",
    "t0 = time.time()\n",
    "scan_events(epm, gui, pmtrwf, sipmrwf, \n",
    "            event_list=list(range(n_events)), \n",
    "            event_plot_list=list(range(0,n_events,sample_plot)),\n",
    "           printout=10)\n",
    "t1 = time.time()        \n",
    "dt = t1 - t0\n",
    "print(\"run {} events in {} s event/s = {}\".format(n_events, dt, dt/n_events))"
   ]
  },
  {
   "cell_type": "code",
   "execution_count": null,
   "metadata": {
    "collapsed": false
   },
   "outputs": [],
   "source": [
    "epm.s1f"
   ]
  },
  {
   "cell_type": "code",
   "execution_count": null,
   "metadata": {
    "collapsed": true
   },
   "outputs": [],
   "source": []
  },
  {
   "cell_type": "code",
   "execution_count": null,
   "metadata": {
    "collapsed": false
   },
   "outputs": [],
   "source": [
    "gui.add_figure('s1 peaks ',hist_1d(epm.s1f.epeak(), xlo=0, xhi=max(epm.s1f.peak()) + 1))\n",
    "gui.add_figure('s1 width in ns',hist_1d(epm.s1f.width(), xlo=0, xhi=500))\n",
    "gui.add_figure('s1 t in mus',hist_1d(epm.s1f.tpeak()/units.mus, xlo=0, xhi=650))\n",
    "gui.add_figure('s1 etot in pes',hist_1d(epm.s1f.etot(), xlo=0, xhi=max(epm.s1f.etot())+10))\n",
    "gui.add_figure('s1 etot in pes (2)',hist_1d(epm.s1f.etot(), xlo=0, xhi=50))\n",
    "gui.add_figure('s1 emax in pes',hist_1d(epm.s1f.emax(), xlo=0, xhi=max(epm.s1f.emax())+10))"
   ]
  },
  {
   "cell_type": "code",
   "execution_count": null,
   "metadata": {
    "collapsed": false
   },
   "outputs": [],
   "source": [
    "gui.add_figure('s2 peaks ',hist_1d(epm.s2f.peak(), xlo=0, xhi=max(epm.s2f.peak()) + 1))\n",
    "gui.add_figure('s2 width in mua',hist_1d(epm.s2f.width()/units.mus, xlo=0, xhi=max(epm.s2f.width()/units.mus)+10))\n",
    "gui.add_figure('s2 t in mus',hist_1d(epm.s2f.tpeak()/units.mus, xlo=650, xhi=670))\n",
    "gui.add_figure('s2 etot in pes',hist_1d(epm.s2f.etot(), xlo=0, xhi=max(epm.s2f.etot())+100))\n",
    "gui.add_figure('s2 emax in pes',hist_1d(epm.s2f.emax(), xlo=0, xhi=max(epm.s2f.emax())+100))\n",
    "gui.add_figure('s2 emax/etot in pes',hist_1d(epm.s2f.emax_over_etot(), xlo=0, xhi=1))"
   ]
  },
  {
   "cell_type": "code",
   "execution_count": null,
   "metadata": {
    "collapsed": false
   },
   "outputs": [],
   "source": []
  }
 ],
 "metadata": {
  "kernelspec": {
   "display_name": "Python 3",
   "language": "python",
   "name": "python3"
  },
  "language_info": {
   "codemirror_mode": {
    "name": "ipython",
    "version": 3
   },
   "file_extension": ".py",
   "mimetype": "text/x-python",
   "name": "python",
   "nbconvert_exporter": "python",
   "pygments_lexer": "ipython3",
   "version": "3.6.0"
  }
 },
 "nbformat": 4,
 "nbformat_minor": 2
}
