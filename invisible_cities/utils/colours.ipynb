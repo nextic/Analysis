{
 "cells": [
  {
   "cell_type": "markdown",
   "metadata": {
    "collapsed": false
   },
   "source": [
    "# Colours"
   ]
  },
  {
   "cell_type": "markdown",
   "metadata": {
    "collapsed": false
   },
   "source": [
    "This notebook ilustrates the use of colormaps"
   ]
  },
  {
   "cell_type": "code",
   "execution_count": null,
   "metadata": {
    "collapsed": false
   },
   "outputs": [],
   "source": [
    "import datetime"
   ]
  },
  {
   "cell_type": "code",
   "execution_count": null,
   "metadata": {
    "collapsed": false
   },
   "outputs": [],
   "source": [
    "print(datetime.datetime.now().strftime('%Y-%m-%d %H:%M:%S'))"
   ]
  },
  {
   "cell_type": "code",
   "execution_count": null,
   "metadata": {
    "collapsed": false
   },
   "outputs": [],
   "source": [
    "from __future__ import print_function\n",
    "import sys\n",
    "import os\n",
    "from glob import glob\n",
    "from time import time"
   ]
  },
  {
   "cell_type": "code",
   "execution_count": null,
   "metadata": {
    "collapsed": false
   },
   "outputs": [],
   "source": [
    "%matplotlib inline\n",
    "%load_ext autoreload\n",
    "%autoreload 2\n",
    "import matplotlib.pyplot as plt\n",
    "import numpy as np\n",
    "import math"
   ]
  },
  {
   "cell_type": "code",
   "execution_count": null,
   "metadata": {
    "collapsed": false
   },
   "outputs": [],
   "source": [
    "\"\"\"\n",
    "Reference for colormaps included with Matplotlib.\n",
    "\n",
    "This reference example shows all colormaps included with Matplotlib. Note that\n",
    "any colormap listed here can be reversed by appending \"_r\" (e.g., \"pink_r\").\n",
    "These colormaps are divided into the following categories:\n",
    "\n",
    "Sequential:\n",
    "    These colormaps are approximately monochromatic colormaps varying smoothly\n",
    "    between two color tones---usually from low saturation (e.g. white) to high\n",
    "    saturation (e.g. a bright blue). Sequential colormaps are ideal for\n",
    "    representing most scientific data since they show a clear progression from\n",
    "    low-to-high values.\n",
    "\n",
    "Diverging:\n",
    "    These colormaps have a median value (usually light in color) and vary\n",
    "    smoothly to two different color tones at high and low values. Diverging\n",
    "    colormaps are ideal when your data has a median value that is significant\n",
    "    (e.g.  0, such that positive and negative values are represented by\n",
    "    different colors of the colormap).\n",
    "\n",
    "Qualitative:\n",
    "    These colormaps vary rapidly in color. Qualitative colormaps are useful for\n",
    "    choosing a set of discrete colors. For example::\n",
    "\n",
    "        color_list = plt.cm.Set3(np.linspace(0, 1, 12))\n",
    "\n",
    "    gives a list of RGB colors that are good for plotting a series of lines on\n",
    "    a dark background.\n",
    "\n",
    "Miscellaneous:\n",
    "    Colormaps that don't fit into the categories above.\n",
    "\n",
    "\"\"\"\n",
    "import numpy as np\n",
    "import matplotlib.pyplot as plt\n",
    "\n",
    "# Have colormaps separated into categories:\n",
    "# http://matplotlib.org/examples/color/colormaps_reference.html\n",
    "\n",
    "cmaps = [('Perceptually Uniform Sequential',\n",
    "                            ['viridis', 'inferno', 'plasma', 'magma']),\n",
    "         ('Sequential',     ['Blues', 'BuGn', 'BuPu',\n",
    "                             'GnBu', 'Greens', 'Greys', 'Oranges', 'OrRd',\n",
    "                             'PuBu', 'PuBuGn', 'PuRd', 'Purples', 'RdPu',\n",
    "                             'Reds', 'YlGn', 'YlGnBu', 'YlOrBr', 'YlOrRd']),\n",
    "         ('Sequential (2)', ['afmhot', 'autumn', 'bone', 'cool',\n",
    "                             'copper', 'gist_heat', 'gray', 'hot',\n",
    "                             'pink', 'spring', 'summer', 'winter']),\n",
    "         ('Diverging',      ['BrBG', 'bwr', 'coolwarm', 'PiYG', 'PRGn', 'PuOr',\n",
    "                             'RdBu', 'RdGy', 'RdYlBu', 'RdYlGn', 'Spectral',\n",
    "                             'seismic']),\n",
    "         ('Qualitative',    ['Accent', 'Dark2', 'Paired', 'Pastel1',\n",
    "                             'Pastel2', 'Set1', 'Set2', 'Set3']),\n",
    "         ('Miscellaneous',  ['gist_earth', 'terrain', 'ocean', 'gist_stern',\n",
    "                             'brg', 'CMRmap', 'cubehelix',\n",
    "                             'gnuplot', 'gnuplot2', 'gist_ncar',\n",
    "                             'nipy_spectral', 'jet', 'rainbow',\n",
    "                             'gist_rainbow', 'hsv', 'flag', 'prism'])]\n",
    "\n",
    "\n",
    "nrows = max(len(cmap_list) for cmap_category, cmap_list in cmaps)\n",
    "gradient = np.linspace(0, 1, 256)\n",
    "gradient = np.vstack((gradient, gradient))\n",
    "\n",
    "\n",
    "def plot_color_gradients(cmap_category, cmap_list):\n",
    "    fig, axes = plt.subplots(nrows=nrows)\n",
    "    fig.subplots_adjust(top=0.95, bottom=0.01, left=0.2, right=0.99)\n",
    "    axes[0].set_title(cmap_category + ' colormaps', fontsize=14)\n",
    "\n",
    "    for ax, name in zip(axes, cmap_list):\n",
    "        ax.imshow(gradient, aspect='auto', cmap=plt.get_cmap(name))\n",
    "        pos = list(ax.get_position().bounds)\n",
    "        x_text = pos[0] - 0.01\n",
    "        y_text = pos[1] + pos[3]/2.\n",
    "        fig.text(x_text, y_text, name, va='center', ha='right', fontsize=10)\n",
    "\n",
    "    # Turn off *all* ticks & spines, not just the ones with colormaps.\n",
    "    for ax in axes:\n",
    "        ax.set_axis_off()\n",
    "\n",
    "for cmap_category, cmap_list in cmaps:\n",
    "    plot_color_gradients(cmap_category, cmap_list)\n",
    "\n",
    "plt.show()"
   ]
  },
  {
   "cell_type": "code",
   "execution_count": null,
   "metadata": {
    "collapsed": false
   },
   "outputs": [],
   "source": []
  }
 ],
 "metadata": {
  "kernelspec": {
   "display_name": "Python [conda env:IC3.5]",
   "language": "python",
   "name": "conda-env-IC3.5-py"
  },
  "language_info": {
   "codemirror_mode": {
    "name": "ipython",
    "version": 3
   },
   "file_extension": ".py",
   "mimetype": "text/x-python",
   "name": "python",
   "nbconvert_exporter": "python",
   "pygments_lexer": "ipython3",
   "version": "3.5.2"
  }
 },
 "nbformat": 4,
 "nbformat_minor": 2
}
